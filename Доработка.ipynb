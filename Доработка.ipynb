{
 "cells": [
  {
   "cell_type": "code",
   "execution_count": 1,
   "id": "5193513f-2cee-4d73-a0c9-5588abc351f4",
   "metadata": {},
   "outputs": [
    {
     "name": "stdout",
     "output_type": "stream",
     "text": [
      "Requirement already satisfied: transformers in c:\\users\\user_pc\\appdata\\local\\programs\\python\\python311\\lib\\site-packages (4.43.3)\n",
      "Requirement already satisfied: filelock in c:\\users\\user_pc\\appdata\\local\\programs\\python\\python311\\lib\\site-packages (from transformers) (3.15.4)\n",
      "Requirement already satisfied: huggingface-hub<1.0,>=0.23.2 in c:\\users\\user_pc\\appdata\\local\\programs\\python\\python311\\lib\\site-packages (from transformers) (0.24.5)\n",
      "Requirement already satisfied: numpy>=1.17 in c:\\users\\user_pc\\appdata\\local\\programs\\python\\python311\\lib\\site-packages (from transformers) (1.26.4)\n",
      "Requirement already satisfied: packaging>=20.0 in c:\\users\\user_pc\\appdata\\local\\programs\\python\\python311\\lib\\site-packages (from transformers) (24.1)\n",
      "Requirement already satisfied: pyyaml>=5.1 in c:\\users\\user_pc\\appdata\\local\\programs\\python\\python311\\lib\\site-packages (from transformers) (6.0.1)\n",
      "Requirement already satisfied: regex!=2019.12.17 in c:\\users\\user_pc\\appdata\\local\\programs\\python\\python311\\lib\\site-packages (from transformers) (2024.7.24)\n",
      "Requirement already satisfied: requests in c:\\users\\user_pc\\appdata\\local\\programs\\python\\python311\\lib\\site-packages (from transformers) (2.32.3)\n",
      "Requirement already satisfied: safetensors>=0.4.1 in c:\\users\\user_pc\\appdata\\local\\programs\\python\\python311\\lib\\site-packages (from transformers) (0.4.3)\n",
      "Requirement already satisfied: tokenizers<0.20,>=0.19 in c:\\users\\user_pc\\appdata\\local\\programs\\python\\python311\\lib\\site-packages (from transformers) (0.19.1)\n",
      "Requirement already satisfied: tqdm>=4.27 in c:\\users\\user_pc\\appdata\\local\\programs\\python\\python311\\lib\\site-packages (from transformers) (4.66.4)\n",
      "Requirement already satisfied: fsspec>=2023.5.0 in c:\\users\\user_pc\\appdata\\local\\programs\\python\\python311\\lib\\site-packages (from huggingface-hub<1.0,>=0.23.2->transformers) (2024.5.0)\n",
      "Requirement already satisfied: typing-extensions>=3.7.4.3 in c:\\users\\user_pc\\appdata\\local\\programs\\python\\python311\\lib\\site-packages (from huggingface-hub<1.0,>=0.23.2->transformers) (4.12.2)\n",
      "Requirement already satisfied: colorama in c:\\users\\user_pc\\appdata\\local\\programs\\python\\python311\\lib\\site-packages (from tqdm>=4.27->transformers) (0.4.6)\n",
      "Requirement already satisfied: charset-normalizer<4,>=2 in c:\\users\\user_pc\\appdata\\local\\programs\\python\\python311\\lib\\site-packages (from requests->transformers) (3.1.0)\n",
      "Requirement already satisfied: idna<4,>=2.5 in c:\\users\\user_pc\\appdata\\local\\programs\\python\\python311\\lib\\site-packages (from requests->transformers) (3.4)\n",
      "Requirement already satisfied: urllib3<3,>=1.21.1 in c:\\users\\user_pc\\appdata\\local\\programs\\python\\python311\\lib\\site-packages (from requests->transformers) (2.0.6)\n",
      "Requirement already satisfied: certifi>=2017.4.17 in c:\\users\\user_pc\\appdata\\local\\programs\\python\\python311\\lib\\site-packages (from requests->transformers) (2023.7.22)\n"
     ]
    }
   ],
   "source": [
    "!pip3 install transformers "
   ]
  },
  {
   "cell_type": "code",
   "execution_count": 2,
   "id": "7081707f-7299-4425-b38b-197b6fae837c",
   "metadata": {},
   "outputs": [],
   "source": [
    "from transformers import AutoTokenizer"
   ]
  },
  {
   "cell_type": "code",
   "execution_count": 3,
   "id": "1c8619d3-4bc5-498d-8478-590f337fad3a",
   "metadata": {},
   "outputs": [],
   "source": [
    "from tqdm import tqdm\n",
    "tqdm.pandas()"
   ]
  },
  {
   "cell_type": "code",
   "execution_count": 4,
   "id": "8fcfffbf-f7e6-45d0-9230-ee67d3d6914d",
   "metadata": {},
   "outputs": [],
   "source": [
    "tokenizer = AutoTokenizer.from_pretrained('Qwen/Qwen1.5-0.5B')"
   ]
  },
  {
   "cell_type": "code",
   "execution_count": 5,
   "id": "c73c71d6-0ace-4778-924a-1bb7668d064e",
   "metadata": {},
   "outputs": [],
   "source": [
    "def tokenize(prompt):\n",
    "    result = tokenizer(prompt)\n",
    "    result[\"labels\"] = result[\"input_ids\"].copy()\n",
    "    return result"
   ]
  },
  {
   "cell_type": "code",
   "execution_count": 10,
   "id": "a6670607-5b91-400f-a490-e9207deab6d1",
   "metadata": {},
   "outputs": [
    {
     "data": {
      "text/plain": [
       "{'input_ids': [5050, 5562, 374, 18838], 'attention_mask': [1, 1, 1, 1], 'labels': [5050, 5562, 374, 18838]}"
      ]
     },
     "execution_count": 10,
     "metadata": {},
     "output_type": "execute_result"
    }
   ],
   "source": [
    "tokenize('My dog is cute')"
   ]
  },
  {
   "cell_type": "code",
   "execution_count": 1,
   "id": "1c1edd54-6437-47e7-807a-bfd229f23af6",
   "metadata": {},
   "outputs": [],
   "source": [
    "import pandas as pd"
   ]
  },
  {
   "cell_type": "code",
   "execution_count": 8,
   "id": "c41b9fb1-c7e5-4dbc-b5e5-8231b3296081",
   "metadata": {},
   "outputs": [],
   "source": [
    "data = pd.read_csv('data4.csv')"
   ]
  },
  {
   "cell_type": "code",
   "execution_count": 9,
   "id": "07d9f873-5c0c-4358-92ca-565eec8971d9",
   "metadata": {},
   "outputs": [],
   "source": [
    "data = data[218246:]"
   ]
  },
  {
   "cell_type": "code",
   "execution_count": 10,
   "id": "3029741d-5f91-44fa-9e93-9858984570aa",
   "metadata": {},
   "outputs": [
    {
     "data": {
      "text/html": [
       "<div>\n",
       "<style scoped>\n",
       "    .dataframe tbody tr th:only-of-type {\n",
       "        vertical-align: middle;\n",
       "    }\n",
       "\n",
       "    .dataframe tbody tr th {\n",
       "        vertical-align: top;\n",
       "    }\n",
       "\n",
       "    .dataframe thead th {\n",
       "        text-align: right;\n",
       "    }\n",
       "</style>\n",
       "<table border=\"1\" class=\"dataframe\">\n",
       "  <thead>\n",
       "    <tr style=\"text-align: right;\">\n",
       "      <th></th>\n",
       "      <th>Unnamed: 0</th>\n",
       "      <th>question</th>\n",
       "      <th>answer</th>\n",
       "    </tr>\n",
       "  </thead>\n",
       "  <tbody>\n",
       "    <tr>\n",
       "      <th>218246</th>\n",
       "      <td>1527725</td>\n",
       "      <td>You are an expert who must answer a user’s que...</td>\n",
       "      <td>I’ve seen papers that propose to use GPU for l...</td>\n",
       "    </tr>\n",
       "    <tr>\n",
       "      <th>218247</th>\n",
       "      <td>1527726</td>\n",
       "      <td>You are an expert who must answer a user’s que...</td>\n",
       "      <td>I assume that u don't want to fetch it through...</td>\n",
       "    </tr>\n",
       "    <tr>\n",
       "      <th>218248</th>\n",
       "      <td>1527727</td>\n",
       "      <td>You are an expert who must answer a user’s que...</td>\n",
       "      <td>Your bfs code has many issues. I will not list...</td>\n",
       "    </tr>\n",
       "    <tr>\n",
       "      <th>218249</th>\n",
       "      <td>1527728</td>\n",
       "      <td>You are an expert who must answer a user’s que...</td>\n",
       "      <td>You have to clear the display in ever frame:\\n...</td>\n",
       "    </tr>\n",
       "    <tr>\n",
       "      <th>218250</th>\n",
       "      <td>1527729</td>\n",
       "      <td>You are an expert who must answer a user’s que...</td>\n",
       "      <td>I think the requests.get() receives the cached...</td>\n",
       "    </tr>\n",
       "    <tr>\n",
       "      <th>...</th>\n",
       "      <td>...</td>\n",
       "      <td>...</td>\n",
       "      <td>...</td>\n",
       "    </tr>\n",
       "    <tr>\n",
       "      <th>436488</th>\n",
       "      <td>1745967</td>\n",
       "      <td>You are an expert who must answer a user’s que...</td>\n",
       "      <td>To convert a space-separated file to a tab-del...</td>\n",
       "    </tr>\n",
       "    <tr>\n",
       "      <th>436489</th>\n",
       "      <td>1745968</td>\n",
       "      <td>You are an expert who must answer a user’s que...</td>\n",
       "      <td>You have to add an options in your undetected ...</td>\n",
       "    </tr>\n",
       "    <tr>\n",
       "      <th>436490</th>\n",
       "      <td>1745969</td>\n",
       "      <td>You are an expert who must answer a user’s que...</td>\n",
       "      <td>We can then use the index() method to find the...</td>\n",
       "    </tr>\n",
       "    <tr>\n",
       "      <th>436491</th>\n",
       "      <td>1745970</td>\n",
       "      <td>You are an expert who must answer a user’s que...</td>\n",
       "      <td>PIL does not have built in ability to automati...</td>\n",
       "    </tr>\n",
       "    <tr>\n",
       "      <th>436492</th>\n",
       "      <td>1745971</td>\n",
       "      <td>You are an expert who must answer a user’s que...</td>\n",
       "      <td>1. Not using dot\\nYou do not need to fully exp...</td>\n",
       "    </tr>\n",
       "  </tbody>\n",
       "</table>\n",
       "<p>218247 rows × 3 columns</p>\n",
       "</div>"
      ],
      "text/plain": [
       "        Unnamed: 0                                           question  \\\n",
       "218246     1527725  You are an expert who must answer a user’s que...   \n",
       "218247     1527726  You are an expert who must answer a user’s que...   \n",
       "218248     1527727  You are an expert who must answer a user’s que...   \n",
       "218249     1527728  You are an expert who must answer a user’s que...   \n",
       "218250     1527729  You are an expert who must answer a user’s que...   \n",
       "...            ...                                                ...   \n",
       "436488     1745967  You are an expert who must answer a user’s que...   \n",
       "436489     1745968  You are an expert who must answer a user’s que...   \n",
       "436490     1745969  You are an expert who must answer a user’s que...   \n",
       "436491     1745970  You are an expert who must answer a user’s que...   \n",
       "436492     1745971  You are an expert who must answer a user’s que...   \n",
       "\n",
       "                                                   answer  \n",
       "218246  I’ve seen papers that propose to use GPU for l...  \n",
       "218247  I assume that u don't want to fetch it through...  \n",
       "218248  Your bfs code has many issues. I will not list...  \n",
       "218249  You have to clear the display in ever frame:\\n...  \n",
       "218250  I think the requests.get() receives the cached...  \n",
       "...                                                   ...  \n",
       "436488  To convert a space-separated file to a tab-del...  \n",
       "436489  You have to add an options in your undetected ...  \n",
       "436490  We can then use the index() method to find the...  \n",
       "436491  PIL does not have built in ability to automati...  \n",
       "436492  1. Not using dot\\nYou do not need to fully exp...  \n",
       "\n",
       "[218247 rows x 3 columns]"
      ]
     },
     "execution_count": 10,
     "metadata": {},
     "output_type": "execute_result"
    }
   ],
   "source": [
    "data"
   ]
  },
  {
   "cell_type": "code",
   "execution_count": 11,
   "id": "a898a023-0a62-4399-8900-728b903c79b7",
   "metadata": {},
   "outputs": [],
   "source": [
    "del data['Unnamed: 0']\n",
    "del data['answer']"
   ]
  },
  {
   "cell_type": "code",
   "execution_count": 12,
   "id": "7740e521-dc19-43f4-bf2d-71f8625131c2",
   "metadata": {},
   "outputs": [
    {
     "name": "stderr",
     "output_type": "stream",
     "text": [
      " 34%|█████████████████████████▏                                                | 74464/218247 [01:49<03:42, 645.08it/s]Token indices sequence length is longer than the specified maximum sequence length for this model (36772 > 32768). Running this sequence through the model will result in indexing errors\n",
      "100%|█████████████████████████████████████████████████████████████████████████| 218247/218247 [05:51<00:00, 620.02it/s]\n"
     ]
    }
   ],
   "source": [
    "data['question'] = data['question'].progress_apply(tokenize)"
   ]
  },
  {
   "cell_type": "code",
   "execution_count": 14,
   "id": "9b2f0bd5-db56-4e7d-83f6-e2477744c476",
   "metadata": {},
   "outputs": [],
   "source": [
    "data.to_csv('tok_data42.csv', index = False)"
   ]
  },
  {
   "cell_type": "code",
   "execution_count": null,
   "id": "8b4c523b-d9e7-402e-83b2-c03d04797bab",
   "metadata": {},
   "outputs": [],
   "source": []
  },
  {
   "cell_type": "code",
   "execution_count": null,
   "id": "6fdf2f2b-d668-49a7-8bfc-f535c4eb9151",
   "metadata": {},
   "outputs": [],
   "source": []
  },
  {
   "cell_type": "code",
   "execution_count": null,
   "id": "6f5cab2f-ae55-4310-8bd9-84acfe55d62b",
   "metadata": {},
   "outputs": [],
   "source": []
  },
  {
   "cell_type": "code",
   "execution_count": 3,
   "id": "a8f5989e-f4b7-44d4-a555-58d368567919",
   "metadata": {},
   "outputs": [],
   "source": [
    "data11 = pd.read_csv('tok_data11.csv')\n",
    "data12 = pd.read_csv('tok_data12.csv')\n",
    "data21 = pd.read_csv('tok_data21.csv')\n",
    "data22 = pd.read_csv('tok_data22.csv')\n",
    "data31 = pd.read_csv('tok_data31.csv')\n",
    "data32 = pd.read_csv('tok_data32.csv')\n",
    "data41 = pd.read_csv('tok_data41.csv')\n",
    "data42 = pd.read_csv('tok_data42.csv')"
   ]
  },
  {
   "cell_type": "code",
   "execution_count": 5,
   "id": "8055cf89-6fb1-4a87-baa5-09653c031528",
   "metadata": {},
   "outputs": [],
   "source": [
    "tok_data = pd.concat([data11, data12, data21, data22, data31, data32, data41, data42])"
   ]
  },
  {
   "cell_type": "code",
   "execution_count": 10,
   "id": "11ed7628-bf98-4efb-8f96-4f1f43465d86",
   "metadata": {},
   "outputs": [
    {
     "data": {
      "text/html": [
       "<div>\n",
       "<style scoped>\n",
       "    .dataframe tbody tr th:only-of-type {\n",
       "        vertical-align: middle;\n",
       "    }\n",
       "\n",
       "    .dataframe tbody tr th {\n",
       "        vertical-align: top;\n",
       "    }\n",
       "\n",
       "    .dataframe thead th {\n",
       "        text-align: right;\n",
       "    }\n",
       "</style>\n",
       "<table border=\"1\" class=\"dataframe\">\n",
       "  <thead>\n",
       "    <tr style=\"text-align: right;\">\n",
       "      <th></th>\n",
       "      <th>question</th>\n",
       "    </tr>\n",
       "  </thead>\n",
       "  <tbody>\n",
       "    <tr>\n",
       "      <th>0</th>\n",
       "      <td>{'input_ids': [2610, 525, 458, 6203, 879, 1969...</td>\n",
       "    </tr>\n",
       "    <tr>\n",
       "      <th>1</th>\n",
       "      <td>{'input_ids': [2610, 525, 458, 6203, 879, 1969...</td>\n",
       "    </tr>\n",
       "    <tr>\n",
       "      <th>2</th>\n",
       "      <td>{'input_ids': [2610, 525, 458, 6203, 879, 1969...</td>\n",
       "    </tr>\n",
       "    <tr>\n",
       "      <th>3</th>\n",
       "      <td>{'input_ids': [2610, 525, 458, 6203, 879, 1969...</td>\n",
       "    </tr>\n",
       "    <tr>\n",
       "      <th>4</th>\n",
       "      <td>{'input_ids': [2610, 525, 458, 6203, 879, 1969...</td>\n",
       "    </tr>\n",
       "    <tr>\n",
       "      <th>...</th>\n",
       "      <td>...</td>\n",
       "    </tr>\n",
       "    <tr>\n",
       "      <th>1745969</th>\n",
       "      <td>{'input_ids': [2610, 525, 458, 6203, 879, 1969...</td>\n",
       "    </tr>\n",
       "    <tr>\n",
       "      <th>1745970</th>\n",
       "      <td>{'input_ids': [2610, 525, 458, 6203, 879, 1969...</td>\n",
       "    </tr>\n",
       "    <tr>\n",
       "      <th>1745971</th>\n",
       "      <td>{'input_ids': [2610, 525, 458, 6203, 879, 1969...</td>\n",
       "    </tr>\n",
       "    <tr>\n",
       "      <th>1745972</th>\n",
       "      <td>{'input_ids': [2610, 525, 458, 6203, 879, 1969...</td>\n",
       "    </tr>\n",
       "    <tr>\n",
       "      <th>1745973</th>\n",
       "      <td>{'input_ids': [2610, 525, 458, 6203, 879, 1969...</td>\n",
       "    </tr>\n",
       "  </tbody>\n",
       "</table>\n",
       "<p>1745974 rows × 1 columns</p>\n",
       "</div>"
      ],
      "text/plain": [
       "                                                  question\n",
       "0        {'input_ids': [2610, 525, 458, 6203, 879, 1969...\n",
       "1        {'input_ids': [2610, 525, 458, 6203, 879, 1969...\n",
       "2        {'input_ids': [2610, 525, 458, 6203, 879, 1969...\n",
       "3        {'input_ids': [2610, 525, 458, 6203, 879, 1969...\n",
       "4        {'input_ids': [2610, 525, 458, 6203, 879, 1969...\n",
       "...                                                    ...\n",
       "1745969  {'input_ids': [2610, 525, 458, 6203, 879, 1969...\n",
       "1745970  {'input_ids': [2610, 525, 458, 6203, 879, 1969...\n",
       "1745971  {'input_ids': [2610, 525, 458, 6203, 879, 1969...\n",
       "1745972  {'input_ids': [2610, 525, 458, 6203, 879, 1969...\n",
       "1745973  {'input_ids': [2610, 525, 458, 6203, 879, 1969...\n",
       "\n",
       "[1745974 rows x 1 columns]"
      ]
     },
     "execution_count": 10,
     "metadata": {},
     "output_type": "execute_result"
    }
   ],
   "source": [
    "tok_data"
   ]
  },
  {
   "cell_type": "code",
   "execution_count": 7,
   "id": "d7fc80bf-cb4d-4a06-a031-176ca8ea9801",
   "metadata": {},
   "outputs": [],
   "source": [
    "tok_data = tok_data.reset_index()"
   ]
  },
  {
   "cell_type": "code",
   "execution_count": 9,
   "id": "7a96da14-0f50-4960-a871-34261eae98de",
   "metadata": {},
   "outputs": [],
   "source": [
    "del tok_data['index']"
   ]
  },
  {
   "cell_type": "code",
   "execution_count": 12,
   "id": "8995c5e4-ee0c-4da3-9af1-89215ab4bfe5",
   "metadata": {},
   "outputs": [],
   "source": [
    "tok_data.to_csv('tok_data.csv', index = False)"
   ]
  },
  {
   "cell_type": "code",
   "execution_count": null,
   "id": "5e3ffbde-dea1-4313-a138-971b0749d8b5",
   "metadata": {},
   "outputs": [],
   "source": []
  },
  {
   "cell_type": "code",
   "execution_count": 23,
   "id": "9a9c01ef-2d5f-466c-b11c-42974d31fabd",
   "metadata": {},
   "outputs": [],
   "source": [
    "import ast\n",
    "\n",
    "def get_dict_from_str(text):\n",
    "    return ast.literal_eval(text)"
   ]
  },
  {
   "cell_type": "code",
   "execution_count": null,
   "id": "c69ef5ab-056a-414a-b0ac-b142c395b0d6",
   "metadata": {},
   "outputs": [],
   "source": [
    "tok_data['question'] = tok_data['question'].progress_apply(get_dict_from_str)"
   ]
  },
  {
   "cell_type": "code",
   "execution_count": 15,
   "id": "6659e2c2-4bd4-41ce-a5d9-d18fa35dce07",
   "metadata": {
    "collapsed": true,
    "jupyter": {
     "outputs_hidden": true
    }
   },
   "outputs": [
    {
     "name": "stdout",
     "output_type": "stream",
     "text": [
      "Collecting matplotlib\n",
      "  Downloading matplotlib-3.9.1.post1-cp311-cp311-win_amd64.whl.metadata (11 kB)\n",
      "Collecting contourpy>=1.0.1 (from matplotlib)\n",
      "  Downloading contourpy-1.2.1-cp311-cp311-win_amd64.whl.metadata (5.8 kB)\n",
      "Collecting cycler>=0.10 (from matplotlib)\n",
      "  Downloading cycler-0.12.1-py3-none-any.whl.metadata (3.8 kB)\n",
      "Collecting fonttools>=4.22.0 (from matplotlib)\n",
      "  Downloading fonttools-4.53.1-cp311-cp311-win_amd64.whl.metadata (165 kB)\n",
      "Collecting kiwisolver>=1.3.1 (from matplotlib)\n",
      "  Downloading kiwisolver-1.4.5-cp311-cp311-win_amd64.whl.metadata (6.5 kB)\n",
      "Requirement already satisfied: numpy>=1.23 in c:\\users\\user_pc\\appdata\\local\\programs\\python\\python311\\lib\\site-packages (from matplotlib) (1.26.4)\n",
      "Requirement already satisfied: packaging>=20.0 in c:\\users\\user_pc\\appdata\\local\\programs\\python\\python311\\lib\\site-packages (from matplotlib) (24.1)\n",
      "Collecting pillow>=8 (from matplotlib)\n",
      "  Downloading pillow-10.4.0-cp311-cp311-win_amd64.whl.metadata (9.3 kB)\n",
      "Collecting pyparsing>=2.3.1 (from matplotlib)\n",
      "  Downloading pyparsing-3.1.2-py3-none-any.whl.metadata (5.1 kB)\n",
      "Requirement already satisfied: python-dateutil>=2.7 in c:\\users\\user_pc\\appdata\\local\\programs\\python\\python311\\lib\\site-packages (from matplotlib) (2.9.0.post0)\n",
      "Requirement already satisfied: six>=1.5 in c:\\users\\user_pc\\appdata\\local\\programs\\python\\python311\\lib\\site-packages (from python-dateutil>=2.7->matplotlib) (1.16.0)\n",
      "Downloading matplotlib-3.9.1.post1-cp311-cp311-win_amd64.whl (8.0 MB)\n",
      "   ---------------------------------------- 0.0/8.0 MB ? eta -:--:--\n",
      "   -- ------------------------------------- 0.5/8.0 MB 5.6 MB/s eta 0:00:02\n",
      "   ---------- ----------------------------- 2.1/8.0 MB 7.3 MB/s eta 0:00:01\n",
      "   ------------------- -------------------- 3.9/8.0 MB 6.9 MB/s eta 0:00:01\n",
      "   ------------------------------- -------- 6.3/8.0 MB 8.2 MB/s eta 0:00:01\n",
      "   ---------------------------------------- 8.0/8.0 MB 8.7 MB/s eta 0:00:00\n",
      "Downloading contourpy-1.2.1-cp311-cp311-win_amd64.whl (188 kB)\n",
      "Downloading cycler-0.12.1-py3-none-any.whl (8.3 kB)\n",
      "Downloading fonttools-4.53.1-cp311-cp311-win_amd64.whl (2.2 MB)\n",
      "   ---------------------------------------- 0.0/2.2 MB ? eta -:--:--\n",
      "   ---------------------------------------- 2.2/2.2 MB 11.3 MB/s eta 0:00:00\n",
      "Downloading kiwisolver-1.4.5-cp311-cp311-win_amd64.whl (56 kB)\n",
      "Downloading pillow-10.4.0-cp311-cp311-win_amd64.whl (2.6 MB)\n",
      "   ---------------------------------------- 0.0/2.6 MB ? eta -:--:--\n",
      "   ------------------------------------ --- 2.4/2.6 MB 11.2 MB/s eta 0:00:01\n",
      "   ---------------------------------------- 2.6/2.6 MB 11.3 MB/s eta 0:00:00\n",
      "Downloading pyparsing-3.1.2-py3-none-any.whl (103 kB)\n",
      "Installing collected packages: pyparsing, pillow, kiwisolver, fonttools, cycler, contourpy, matplotlib\n",
      "Successfully installed contourpy-1.2.1 cycler-0.12.1 fonttools-4.53.1 kiwisolver-1.4.5 matplotlib-3.9.1.post1 pillow-10.4.0 pyparsing-3.1.2\n"
     ]
    }
   ],
   "source": [
    "!pip3 install matplotlib"
   ]
  },
  {
   "cell_type": "code",
   "execution_count": 16,
   "id": "d83abc64-423c-41f2-adb7-7b9d281960f6",
   "metadata": {},
   "outputs": [
    {
     "ename": "TypeError",
     "evalue": "string indices must be integers, not 'str'",
     "output_type": "error",
     "traceback": [
      "\u001b[1;31m---------------------------------------------------------------------------\u001b[0m",
      "\u001b[1;31mTypeError\u001b[0m                                 Traceback (most recent call last)",
      "Cell \u001b[1;32mIn[16], line 15\u001b[0m\n\u001b[0;32m     12\u001b[0m     plt\u001b[38;5;241m.\u001b[39mtitle(\u001b[38;5;124m'\u001b[39m\u001b[38;5;124mDistribution of Lengths of input_ids\u001b[39m\u001b[38;5;124m'\u001b[39m)\n\u001b[0;32m     13\u001b[0m     plt\u001b[38;5;241m.\u001b[39mshow()\n\u001b[1;32m---> 15\u001b[0m \u001b[43mplot_data_lengths\u001b[49m\u001b[43m(\u001b[49m\u001b[43mtok_data\u001b[49m\u001b[43m)\u001b[49m\n",
      "Cell \u001b[1;32mIn[16], line 4\u001b[0m, in \u001b[0;36mplot_data_lengths\u001b[1;34m(tokenized_train_dataset)\u001b[0m\n\u001b[0;32m      3\u001b[0m \u001b[38;5;28;01mdef\u001b[39;00m \u001b[38;5;21mplot_data_lengths\u001b[39m(tokenized_train_dataset):\n\u001b[1;32m----> 4\u001b[0m     lengths \u001b[38;5;241m=\u001b[39m \u001b[43m[\u001b[49m\u001b[38;5;28;43mlen\u001b[39;49m\u001b[43m(\u001b[49m\u001b[43mx\u001b[49m\u001b[43m[\u001b[49m\u001b[38;5;124;43m'\u001b[39;49m\u001b[38;5;124;43minput_ids\u001b[39;49m\u001b[38;5;124;43m'\u001b[39;49m\u001b[43m]\u001b[49m\u001b[43m)\u001b[49m\u001b[43m \u001b[49m\u001b[38;5;28;43;01mfor\u001b[39;49;00m\u001b[43m \u001b[49m\u001b[43mx\u001b[49m\u001b[43m \u001b[49m\u001b[38;5;129;43;01min\u001b[39;49;00m\u001b[43m \u001b[49m\u001b[43mtokenized_train_dataset\u001b[49m\u001b[43m[\u001b[49m\u001b[38;5;124;43m'\u001b[39;49m\u001b[38;5;124;43mquestion\u001b[39;49m\u001b[38;5;124;43m'\u001b[39;49m\u001b[43m]\u001b[49m\u001b[43m]\u001b[49m\n\u001b[0;32m      5\u001b[0m     \u001b[38;5;28mprint\u001b[39m(\u001b[38;5;28mlen\u001b[39m(lengths))\n\u001b[0;32m      7\u001b[0m     \u001b[38;5;66;03m# Plotting the histogram\u001b[39;00m\n",
      "Cell \u001b[1;32mIn[16], line 4\u001b[0m, in \u001b[0;36m<listcomp>\u001b[1;34m(.0)\u001b[0m\n\u001b[0;32m      3\u001b[0m \u001b[38;5;28;01mdef\u001b[39;00m \u001b[38;5;21mplot_data_lengths\u001b[39m(tokenized_train_dataset):\n\u001b[1;32m----> 4\u001b[0m     lengths \u001b[38;5;241m=\u001b[39m [\u001b[38;5;28mlen\u001b[39m(\u001b[43mx\u001b[49m\u001b[43m[\u001b[49m\u001b[38;5;124;43m'\u001b[39;49m\u001b[38;5;124;43minput_ids\u001b[39;49m\u001b[38;5;124;43m'\u001b[39;49m\u001b[43m]\u001b[49m) \u001b[38;5;28;01mfor\u001b[39;00m x \u001b[38;5;129;01min\u001b[39;00m tokenized_train_dataset[\u001b[38;5;124m'\u001b[39m\u001b[38;5;124mquestion\u001b[39m\u001b[38;5;124m'\u001b[39m]]\n\u001b[0;32m      5\u001b[0m     \u001b[38;5;28mprint\u001b[39m(\u001b[38;5;28mlen\u001b[39m(lengths))\n\u001b[0;32m      7\u001b[0m     \u001b[38;5;66;03m# Plotting the histogram\u001b[39;00m\n",
      "\u001b[1;31mTypeError\u001b[0m: string indices must be integers, not 'str'"
     ]
    }
   ],
   "source": [
    "import matplotlib.pyplot as plt\n",
    "\n",
    "def plot_data_lengths(tokenized_train_dataset):\n",
    "    lengths = [len(x['input_ids']) for x in tokenized_train_dataset['question']]\n",
    "    print(len(lengths))\n",
    "\n",
    "    # Plotting the histogram\n",
    "    plt.figure(figsize=(10, 6))\n",
    "    plt.hist(lengths, bins=20, alpha=0.7, color='blue')\n",
    "    plt.xlabel('Length of input_ids')\n",
    "    plt.ylabel('Frequency')\n",
    "    plt.title('Distribution of Lengths of input_ids')\n",
    "    plt.show()\n",
    "\n",
    "plot_data_lengths(tok_data)"
   ]
  },
  {
   "cell_type": "code",
   "execution_count": null,
   "id": "7f6c2b5d-dcf0-4620-bd4b-15ec8f718c96",
   "metadata": {},
   "outputs": [],
   "source": []
  }
 ],
 "metadata": {
  "kernelspec": {
   "display_name": "Python 3 (ipykernel)",
   "language": "python",
   "name": "python3"
  },
  "language_info": {
   "codemirror_mode": {
    "name": "ipython",
    "version": 3
   },
   "file_extension": ".py",
   "mimetype": "text/x-python",
   "name": "python",
   "nbconvert_exporter": "python",
   "pygments_lexer": "ipython3",
   "version": "3.11.2"
  }
 },
 "nbformat": 4,
 "nbformat_minor": 5
}
