{
 "cells": [
  {
   "cell_type": "markdown",
   "id": "8dade0dd-1771-4148-a963-16af8a58a8d5",
   "metadata": {},
   "source": [
    "### Установка библотек"
   ]
  },
  {
   "cell_type": "code",
   "execution_count": 1,
   "id": "a046b81c-bbe4-43f1-8e68-e462067412d8",
   "metadata": {
    "collapsed": true,
    "jupyter": {
     "outputs_hidden": true
    },
    "scrolled": true
   },
   "outputs": [
    {
     "name": "stdout",
     "output_type": "stream",
     "text": [
      "Requirement already satisfied: datasets in c:\\users\\user_pc\\appdata\\local\\programs\\python\\python311\\lib\\site-packages (2.20.0)\n",
      "Requirement already satisfied: filelock in c:\\users\\user_pc\\appdata\\local\\programs\\python\\python311\\lib\\site-packages (from datasets) (3.15.4)\n",
      "Requirement already satisfied: numpy>=1.17 in c:\\users\\user_pc\\appdata\\local\\programs\\python\\python311\\lib\\site-packages (from datasets) (1.26.4)\n",
      "Requirement already satisfied: pyarrow>=15.0.0 in c:\\users\\user_pc\\appdata\\local\\programs\\python\\python311\\lib\\site-packages (from datasets) (17.0.0)\n",
      "Requirement already satisfied: pyarrow-hotfix in c:\\users\\user_pc\\appdata\\local\\programs\\python\\python311\\lib\\site-packages (from datasets) (0.6)\n",
      "Requirement already satisfied: dill<0.3.9,>=0.3.0 in c:\\users\\user_pc\\appdata\\local\\programs\\python\\python311\\lib\\site-packages (from datasets) (0.3.8)\n",
      "Requirement already satisfied: pandas in c:\\users\\user_pc\\appdata\\local\\programs\\python\\python311\\lib\\site-packages (from datasets) (2.2.2)\n",
      "Requirement already satisfied: requests>=2.32.2 in c:\\users\\user_pc\\appdata\\local\\programs\\python\\python311\\lib\\site-packages (from datasets) (2.32.3)\n",
      "Requirement already satisfied: tqdm>=4.66.3 in c:\\users\\user_pc\\appdata\\local\\programs\\python\\python311\\lib\\site-packages (from datasets) (4.66.4)\n",
      "Requirement already satisfied: xxhash in c:\\users\\user_pc\\appdata\\local\\programs\\python\\python311\\lib\\site-packages (from datasets) (3.4.1)\n",
      "Requirement already satisfied: multiprocess in c:\\users\\user_pc\\appdata\\local\\programs\\python\\python311\\lib\\site-packages (from datasets) (0.70.16)\n",
      "Requirement already satisfied: fsspec<=2024.5.0,>=2023.1.0 in c:\\users\\user_pc\\appdata\\local\\programs\\python\\python311\\lib\\site-packages (from fsspec[http]<=2024.5.0,>=2023.1.0->datasets) (2024.5.0)\n",
      "Requirement already satisfied: aiohttp in c:\\users\\user_pc\\appdata\\local\\programs\\python\\python311\\lib\\site-packages (from datasets) (3.9.5)\n",
      "Requirement already satisfied: huggingface-hub>=0.21.2 in c:\\users\\user_pc\\appdata\\local\\programs\\python\\python311\\lib\\site-packages (from datasets) (0.24.5)\n",
      "Requirement already satisfied: packaging in c:\\users\\user_pc\\appdata\\local\\programs\\python\\python311\\lib\\site-packages (from datasets) (24.1)\n",
      "Requirement already satisfied: pyyaml>=5.1 in c:\\users\\user_pc\\appdata\\local\\programs\\python\\python311\\lib\\site-packages (from datasets) (6.0.1)\n",
      "Requirement already satisfied: aiosignal>=1.1.2 in c:\\users\\user_pc\\appdata\\local\\programs\\python\\python311\\lib\\site-packages (from aiohttp->datasets) (1.3.1)\n",
      "Requirement already satisfied: attrs>=17.3.0 in c:\\users\\user_pc\\appdata\\local\\programs\\python\\python311\\lib\\site-packages (from aiohttp->datasets) (23.2.0)\n",
      "Requirement already satisfied: frozenlist>=1.1.1 in c:\\users\\user_pc\\appdata\\local\\programs\\python\\python311\\lib\\site-packages (from aiohttp->datasets) (1.3.3)\n",
      "Requirement already satisfied: multidict<7.0,>=4.5 in c:\\users\\user_pc\\appdata\\local\\programs\\python\\python311\\lib\\site-packages (from aiohttp->datasets) (6.0.4)\n",
      "Requirement already satisfied: yarl<2.0,>=1.0 in c:\\users\\user_pc\\appdata\\local\\programs\\python\\python311\\lib\\site-packages (from aiohttp->datasets) (1.8.2)\n",
      "Requirement already satisfied: typing-extensions>=3.7.4.3 in c:\\users\\user_pc\\appdata\\local\\programs\\python\\python311\\lib\\site-packages (from huggingface-hub>=0.21.2->datasets) (4.12.2)\n",
      "Requirement already satisfied: charset-normalizer<4,>=2 in c:\\users\\user_pc\\appdata\\local\\programs\\python\\python311\\lib\\site-packages (from requests>=2.32.2->datasets) (3.1.0)\n",
      "Requirement already satisfied: idna<4,>=2.5 in c:\\users\\user_pc\\appdata\\local\\programs\\python\\python311\\lib\\site-packages (from requests>=2.32.2->datasets) (3.4)\n",
      "Requirement already satisfied: urllib3<3,>=1.21.1 in c:\\users\\user_pc\\appdata\\local\\programs\\python\\python311\\lib\\site-packages (from requests>=2.32.2->datasets) (2.0.6)\n",
      "Requirement already satisfied: certifi>=2017.4.17 in c:\\users\\user_pc\\appdata\\local\\programs\\python\\python311\\lib\\site-packages (from requests>=2.32.2->datasets) (2023.7.22)\n",
      "Requirement already satisfied: colorama in c:\\users\\user_pc\\appdata\\local\\programs\\python\\python311\\lib\\site-packages (from tqdm>=4.66.3->datasets) (0.4.6)\n",
      "Requirement already satisfied: python-dateutil>=2.8.2 in c:\\users\\user_pc\\appdata\\local\\programs\\python\\python311\\lib\\site-packages (from pandas->datasets) (2.9.0.post0)\n",
      "Requirement already satisfied: pytz>=2020.1 in c:\\users\\user_pc\\appdata\\local\\programs\\python\\python311\\lib\\site-packages (from pandas->datasets) (2024.1)\n",
      "Requirement already satisfied: tzdata>=2022.7 in c:\\users\\user_pc\\appdata\\local\\programs\\python\\python311\\lib\\site-packages (from pandas->datasets) (2024.1)\n",
      "Requirement already satisfied: six>=1.5 in c:\\users\\user_pc\\appdata\\local\\programs\\python\\python311\\lib\\site-packages (from python-dateutil>=2.8.2->pandas->datasets) (1.16.0)\n",
      "Requirement already satisfied: transformers in c:\\users\\user_pc\\appdata\\local\\programs\\python\\python311\\lib\\site-packages (4.43.3)\n",
      "Requirement already satisfied: filelock in c:\\users\\user_pc\\appdata\\local\\programs\\python\\python311\\lib\\site-packages (from transformers) (3.15.4)\n",
      "Requirement already satisfied: huggingface-hub<1.0,>=0.23.2 in c:\\users\\user_pc\\appdata\\local\\programs\\python\\python311\\lib\\site-packages (from transformers) (0.24.5)\n",
      "Requirement already satisfied: numpy>=1.17 in c:\\users\\user_pc\\appdata\\local\\programs\\python\\python311\\lib\\site-packages (from transformers) (1.26.4)\n",
      "Requirement already satisfied: packaging>=20.0 in c:\\users\\user_pc\\appdata\\local\\programs\\python\\python311\\lib\\site-packages (from transformers) (24.1)\n",
      "Requirement already satisfied: pyyaml>=5.1 in c:\\users\\user_pc\\appdata\\local\\programs\\python\\python311\\lib\\site-packages (from transformers) (6.0.1)\n",
      "Requirement already satisfied: regex!=2019.12.17 in c:\\users\\user_pc\\appdata\\local\\programs\\python\\python311\\lib\\site-packages (from transformers) (2024.7.24)\n",
      "Requirement already satisfied: requests in c:\\users\\user_pc\\appdata\\local\\programs\\python\\python311\\lib\\site-packages (from transformers) (2.32.3)\n",
      "Requirement already satisfied: safetensors>=0.4.1 in c:\\users\\user_pc\\appdata\\local\\programs\\python\\python311\\lib\\site-packages (from transformers) (0.4.3)\n",
      "Requirement already satisfied: tokenizers<0.20,>=0.19 in c:\\users\\user_pc\\appdata\\local\\programs\\python\\python311\\lib\\site-packages (from transformers) (0.19.1)\n",
      "Requirement already satisfied: tqdm>=4.27 in c:\\users\\user_pc\\appdata\\local\\programs\\python\\python311\\lib\\site-packages (from transformers) (4.66.4)\n",
      "Requirement already satisfied: fsspec>=2023.5.0 in c:\\users\\user_pc\\appdata\\local\\programs\\python\\python311\\lib\\site-packages (from huggingface-hub<1.0,>=0.23.2->transformers) (2024.5.0)\n",
      "Requirement already satisfied: typing-extensions>=3.7.4.3 in c:\\users\\user_pc\\appdata\\local\\programs\\python\\python311\\lib\\site-packages (from huggingface-hub<1.0,>=0.23.2->transformers) (4.12.2)\n",
      "Requirement already satisfied: colorama in c:\\users\\user_pc\\appdata\\local\\programs\\python\\python311\\lib\\site-packages (from tqdm>=4.27->transformers) (0.4.6)\n",
      "Requirement already satisfied: charset-normalizer<4,>=2 in c:\\users\\user_pc\\appdata\\local\\programs\\python\\python311\\lib\\site-packages (from requests->transformers) (3.1.0)\n",
      "Requirement already satisfied: idna<4,>=2.5 in c:\\users\\user_pc\\appdata\\local\\programs\\python\\python311\\lib\\site-packages (from requests->transformers) (3.4)\n",
      "Requirement already satisfied: urllib3<3,>=1.21.1 in c:\\users\\user_pc\\appdata\\local\\programs\\python\\python311\\lib\\site-packages (from requests->transformers) (2.0.6)\n",
      "Requirement already satisfied: certifi>=2017.4.17 in c:\\users\\user_pc\\appdata\\local\\programs\\python\\python311\\lib\\site-packages (from requests->transformers) (2023.7.22)\n"
     ]
    }
   ],
   "source": [
    "!pip3 install datasets\n",
    "!pip3 install transformers"
   ]
  },
  {
   "cell_type": "markdown",
   "id": "df52384d-4365-4b13-adf0-f057c18f31a1",
   "metadata": {},
   "source": [
    "### Работа с датасетом"
   ]
  },
  {
   "cell_type": "code",
   "execution_count": 2,
   "id": "2e1c6eb8-5b96-432d-9361-2ddbae76b0e5",
   "metadata": {},
   "outputs": [],
   "source": [
    "from datasets import load_dataset"
   ]
  },
  {
   "cell_type": "code",
   "execution_count": 3,
   "id": "f5f2cd45-7b9a-47cd-8c80-42b42987252f",
   "metadata": {},
   "outputs": [
    {
     "data": {
      "application/vnd.jupyter.widget-view+json": {
       "model_id": "46bab510c05c48e3ad34519f75ac611d",
       "version_major": 2,
       "version_minor": 0
      },
      "text/plain": [
       "Resolving data files:   0%|          | 0/19 [00:00<?, ?it/s]"
      ]
     },
     "metadata": {},
     "output_type": "display_data"
    },
    {
     "data": {
      "application/vnd.jupyter.widget-view+json": {
       "model_id": "abbf543ccfab4779a10c25830dcc3da4",
       "version_major": 2,
       "version_minor": 0
      },
      "text/plain": [
       "Loading dataset shards:   0%|          | 0/19 [00:00<?, ?it/s]"
      ]
     },
     "metadata": {},
     "output_type": "display_data"
    }
   ],
   "source": [
    "data = load_dataset('suriyagunasekar/stackoverflow-python-with-meta-data')\n",
    "data = data['train']\n",
    "data = data.to_pandas()"
   ]
  },
  {
   "cell_type": "code",
   "execution_count": 2,
   "id": "bd8cc5d8-c7b6-4f6c-a67d-9c9b48d217d3",
   "metadata": {},
   "outputs": [],
   "source": [
    "from tqdm import tqdm\n",
    "tqdm.pandas()"
   ]
  },
  {
   "cell_type": "code",
   "execution_count": 4,
   "id": "46daa230-1cad-48e1-a3d7-ee93618a3679",
   "metadata": {},
   "outputs": [
    {
     "ename": "NameError",
     "evalue": "name 'data' is not defined",
     "output_type": "error",
     "traceback": [
      "\u001b[1;31m---------------------------------------------------------------------------\u001b[0m",
      "\u001b[1;31mNameError\u001b[0m                                 Traceback (most recent call last)",
      "Cell \u001b[1;32mIn[4], line 5\u001b[0m\n\u001b[0;32m      2\u001b[0m     \u001b[38;5;28;01mtry\u001b[39;00m: \u001b[38;5;28;01mreturn\u001b[39;00m text[\u001b[38;5;241m0\u001b[39m]\n\u001b[0;32m      3\u001b[0m     \u001b[38;5;28;01mexcept\u001b[39;00m: \u001b[38;5;28;01mreturn\u001b[39;00m text\n\u001b[1;32m----> 5\u001b[0m data[\u001b[38;5;124m'\u001b[39m\u001b[38;5;124manswer\u001b[39m\u001b[38;5;124m'\u001b[39m] \u001b[38;5;241m=\u001b[39m \u001b[43mdata\u001b[49m[\u001b[38;5;124m'\u001b[39m\u001b[38;5;124manswers\u001b[39m\u001b[38;5;124m'\u001b[39m]\u001b[38;5;241m.\u001b[39mprogress_apply(get_1st_answer)\n",
      "\u001b[1;31mNameError\u001b[0m: name 'data' is not defined"
     ]
    }
   ],
   "source": [
    "def get_1st_answer(text):\n",
    "    try: return text[0]\n",
    "    except: return text\n",
    "\n",
    "data['answer'] = data['answers'].progress_apply(get_1st_answer)"
   ]
  },
  {
   "cell_type": "code",
   "execution_count": 5,
   "id": "b9a2fb97-3342-4ed9-b2e0-1065dbb91675",
   "metadata": {
    "collapsed": true,
    "jupyter": {
     "outputs_hidden": true
    },
    "scrolled": true
   },
   "outputs": [
    {
     "data": {
      "text/plain": [
       "Index(['content', 'title', 'question', 'answers', 'answers_scores',\n",
       "       'non_answers', 'non_answers_scores', 'tags', 'name', 'answer'],\n",
       "      dtype='object')"
      ]
     },
     "execution_count": 5,
     "metadata": {},
     "output_type": "execute_result"
    }
   ],
   "source": [
    "data.keys()"
   ]
  },
  {
   "cell_type": "code",
   "execution_count": 6,
   "id": "1630ddb4-adaa-47e8-8082-7042abe907aa",
   "metadata": {},
   "outputs": [],
   "source": [
    "del data['content']\n",
    "del data['title']\n",
    "del data['answers'] \n",
    "del data['answers_scores']\n",
    "del data['non_answers']\n",
    "del data['non_answers_scores']\n",
    "del data['tags']\n",
    "del data['name']"
   ]
  },
  {
   "cell_type": "code",
   "execution_count": 7,
   "id": "47013737-73e7-48f8-8678-b75d0d4670ef",
   "metadata": {},
   "outputs": [
    {
     "data": {
      "text/html": [
       "<div>\n",
       "<style scoped>\n",
       "    .dataframe tbody tr th:only-of-type {\n",
       "        vertical-align: middle;\n",
       "    }\n",
       "\n",
       "    .dataframe tbody tr th {\n",
       "        vertical-align: top;\n",
       "    }\n",
       "\n",
       "    .dataframe thead th {\n",
       "        text-align: right;\n",
       "    }\n",
       "</style>\n",
       "<table border=\"1\" class=\"dataframe\">\n",
       "  <thead>\n",
       "    <tr style=\"text-align: right;\">\n",
       "      <th></th>\n",
       "      <th>question</th>\n",
       "      <th>answer</th>\n",
       "    </tr>\n",
       "  </thead>\n",
       "  <tbody>\n",
       "    <tr>\n",
       "      <th>0</th>\n",
       "      <td>I've got a menu in Python. That part was easy....</td>\n",
       "      <td>On Windows:\\nimport msvcrt\\nanswer=msvcrt.getc...</td>\n",
       "    </tr>\n",
       "    <tr>\n",
       "      <th>1</th>\n",
       "      <td>I have created a PHP-script to update a web se...</td>\n",
       "      <td>Do you need to open the locfile in binary usin...</td>\n",
       "    </tr>\n",
       "    <tr>\n",
       "      <th>2</th>\n",
       "      <td>I have a Prolite LED sign that I like to set u...</td>\n",
       "      <td>/dev/cu.xxxxx is the \"callout\" device, it's wh...</td>\n",
       "    </tr>\n",
       "    <tr>\n",
       "      <th>3</th>\n",
       "      <td>I have a cross-platform (Python) application w...</td>\n",
       "      <td>ImageMagick delegates the PDF-&gt;bitmap conversi...</td>\n",
       "    </tr>\n",
       "    <tr>\n",
       "      <th>4</th>\n",
       "      <td>Basically, I've written an API to www.thetvdb....</td>\n",
       "      <td>OK, what you need is classobj from new module....</td>\n",
       "    </tr>\n",
       "    <tr>\n",
       "      <th>...</th>\n",
       "      <td>...</td>\n",
       "      <td>...</td>\n",
       "    </tr>\n",
       "    <tr>\n",
       "      <th>1745967</th>\n",
       "      <td>I have two data files, viz., 'fin.dat' and 'sh...</td>\n",
       "      <td>To convert a space-separated file to a tab-del...</td>\n",
       "    </tr>\n",
       "    <tr>\n",
       "      <th>1745968</th>\n",
       "      <td>I want to make a request using Selenium Wire. ...</td>\n",
       "      <td>You have to add an options in your undetected ...</td>\n",
       "    </tr>\n",
       "    <tr>\n",
       "      <th>1745969</th>\n",
       "      <td>I'm very new to python, and I'd like to know h...</td>\n",
       "      <td>We can then use the index() method to find the...</td>\n",
       "    </tr>\n",
       "    <tr>\n",
       "      <th>1745970</th>\n",
       "      <td>I am a beginner in programming, and this is my...</td>\n",
       "      <td>PIL does not have built in ability to automati...</td>\n",
       "    </tr>\n",
       "    <tr>\n",
       "      <th>1745971</th>\n",
       "      <td>I got a matrix A, with the following bytes as ...</td>\n",
       "      <td>1. Not using dot\\nYou do not need to fully exp...</td>\n",
       "    </tr>\n",
       "  </tbody>\n",
       "</table>\n",
       "<p>1745972 rows × 2 columns</p>\n",
       "</div>"
      ],
      "text/plain": [
       "                                                  question  \\\n",
       "0        I've got a menu in Python. That part was easy....   \n",
       "1        I have created a PHP-script to update a web se...   \n",
       "2        I have a Prolite LED sign that I like to set u...   \n",
       "3        I have a cross-platform (Python) application w...   \n",
       "4        Basically, I've written an API to www.thetvdb....   \n",
       "...                                                    ...   \n",
       "1745967  I have two data files, viz., 'fin.dat' and 'sh...   \n",
       "1745968  I want to make a request using Selenium Wire. ...   \n",
       "1745969  I'm very new to python, and I'd like to know h...   \n",
       "1745970  I am a beginner in programming, and this is my...   \n",
       "1745971  I got a matrix A, with the following bytes as ...   \n",
       "\n",
       "                                                    answer  \n",
       "0        On Windows:\\nimport msvcrt\\nanswer=msvcrt.getc...  \n",
       "1        Do you need to open the locfile in binary usin...  \n",
       "2        /dev/cu.xxxxx is the \"callout\" device, it's wh...  \n",
       "3        ImageMagick delegates the PDF->bitmap conversi...  \n",
       "4        OK, what you need is classobj from new module....  \n",
       "...                                                    ...  \n",
       "1745967  To convert a space-separated file to a tab-del...  \n",
       "1745968  You have to add an options in your undetected ...  \n",
       "1745969  We can then use the index() method to find the...  \n",
       "1745970  PIL does not have built in ability to automati...  \n",
       "1745971  1. Not using dot\\nYou do not need to fully exp...  \n",
       "\n",
       "[1745972 rows x 2 columns]"
      ]
     },
     "execution_count": 7,
     "metadata": {},
     "output_type": "execute_result"
    }
   ],
   "source": [
    "data"
   ]
  },
  {
   "cell_type": "code",
   "execution_count": 8,
   "id": "5402e38d-3c00-4a6e-85a5-f7c25915c340",
   "metadata": {},
   "outputs": [],
   "source": [
    "data1 = data[:436493]\n",
    "data2 = data[436493:872986]\n",
    "data3 = data[872986:1309479]\n",
    "data4 = data[1309479:] "
   ]
  },
  {
   "cell_type": "code",
   "execution_count": 10,
   "id": "0b4a531b-c34b-4d7f-88da-a9164ca5a29a",
   "metadata": {},
   "outputs": [],
   "source": [
    "def get_final_text(line):\n",
    "    return 'You are an expert who must answer a user’s question on the site regarding questions about python programming.' + 'User question: ' + line['question'] + 'Your answer: ' + line['answer']"
   ]
  },
  {
   "cell_type": "code",
   "execution_count": 11,
   "id": "137c0952-b6e5-4caa-8131-693ab740ee44",
   "metadata": {},
   "outputs": [
    {
     "name": "stderr",
     "output_type": "stream",
     "text": [
      "100%|██████████████████████████████████████████████████████████████████████| 436493/436493 [00:04<00:00, 106398.09it/s]\n",
      "C:\\Users\\User_PC\\AppData\\Local\\Temp\\ipykernel_19172\\3639712420.py:1: SettingWithCopyWarning: \n",
      "A value is trying to be set on a copy of a slice from a DataFrame.\n",
      "Try using .loc[row_indexer,col_indexer] = value instead\n",
      "\n",
      "See the caveats in the documentation: https://pandas.pydata.org/pandas-docs/stable/user_guide/indexing.html#returning-a-view-versus-a-copy\n",
      "  data1['question'] = data1.progress_apply(get_final_text, axis = 1)\n"
     ]
    }
   ],
   "source": [
    "#data1['question'] = data1.progress_apply(get_final_text, axis = 1) "
   ]
  },
  {
   "cell_type": "code",
   "execution_count": 2,
   "id": "828f2ee8-eb76-49b7-95b2-8623c043171d",
   "metadata": {
    "scrolled": true
   },
   "outputs": [],
   "source": [
    "#data1.to_csv('data1.csv')"
   ]
  },
  {
   "cell_type": "code",
   "execution_count": 3,
   "id": "e0936b98-aa95-4505-9bae-c51c02d54248",
   "metadata": {},
   "outputs": [],
   "source": [
    "#data2['question'] = data2.progress_apply(get_final_text, axis = 1) "
   ]
  },
  {
   "cell_type": "code",
   "execution_count": 4,
   "id": "728959b2-c278-4a0e-8675-90f54cd9ff06",
   "metadata": {},
   "outputs": [],
   "source": [
    "#data2.to_csv('data2.csv')"
   ]
  },
  {
   "cell_type": "code",
   "execution_count": 5,
   "id": "7b132b2b-c0a2-44c8-aee4-3f6f377bb21e",
   "metadata": {},
   "outputs": [],
   "source": [
    "#data3['question'] = data3.progress_apply(get_final_text, axis = 1) "
   ]
  },
  {
   "cell_type": "code",
   "execution_count": 6,
   "id": "985aae1d-9413-4980-8156-f663df3f3d1f",
   "metadata": {},
   "outputs": [],
   "source": [
    "#data3.to_csv('data3.csv')"
   ]
  },
  {
   "cell_type": "code",
   "execution_count": 7,
   "id": "f6d2bbf0-4869-4b85-b37c-be357eb4d99e",
   "metadata": {},
   "outputs": [],
   "source": [
    "#data4['question'] = data4.progress_apply(get_final_text, axis = 1) "
   ]
  },
  {
   "cell_type": "code",
   "execution_count": 8,
   "id": "cdbc1adb-1faf-4291-936d-0a482f7bfcd8",
   "metadata": {},
   "outputs": [],
   "source": [
    "#data4.to_csv('data4.csv') "
   ]
  },
  {
   "cell_type": "code",
   "execution_count": 3,
   "id": "0bfe8d14-3b2e-4aed-9651-a138caf0a2e0",
   "metadata": {},
   "outputs": [],
   "source": [
    "import pandas as pd"
   ]
  },
  {
   "cell_type": "code",
   "execution_count": 6,
   "id": "a38f6540-46d9-4d88-8617-693e984c10da",
   "metadata": {},
   "outputs": [],
   "source": [
    "data1 = pd.read_csv('data1.csv')\n",
    "data2 = pd.read_csv('data1.csv')\n",
    "data3 = pd.read_csv('data1.csv')\n",
    "data4 = pd.read_csv('data1.csv')"
   ]
  },
  {
   "cell_type": "code",
   "execution_count": 7,
   "id": "3263fe84-8048-4a4a-98fa-392b5c6f9f21",
   "metadata": {},
   "outputs": [
    {
     "data": {
      "text/plain": [
       "218246.5"
      ]
     },
     "execution_count": 7,
     "metadata": {},
     "output_type": "execute_result"
    }
   ],
   "source": [
    "len(data2) /2"
   ]
  },
  {
   "cell_type": "code",
   "execution_count": 8,
   "id": "2afb26a7-8e64-44ef-9a68-69324b1b3567",
   "metadata": {},
   "outputs": [],
   "source": [
    "data11 = data1[:218246]\n",
    "data12 = data1[218246:]\n",
    "data21 = data2[:218246]\n",
    "data22 = data2[218246:]\n",
    "data31 = data3[:218246]\n",
    "data32 = data3[218246:]\n",
    "data41 = data4[:218246]\n",
    "data42 = data4[218246:]\n"
   ]
  },
  {
   "cell_type": "code",
   "execution_count": 3,
   "id": "b90aeadc-8a31-400c-ba65-4aba80e4c06d",
   "metadata": {},
   "outputs": [],
   "source": [
    "del data1['Unnamed: 0']\n",
    "del data1['answer']\n",
    "del data2['Unnamed: 0']\n",
    "del data2['answer']\n",
    "del data3['Unnamed: 0']\n",
    "del data3['answer']\n",
    "del data4['Unnamed: 0']\n",
    "del data4['answer']"
   ]
  },
  {
   "cell_type": "code",
   "execution_count": 4,
   "id": "e0af8e94-2ac2-449d-9e64-6e0a3ec18df4",
   "metadata": {},
   "outputs": [],
   "source": [
    "data = pd.concat([data1, data2, data3, data4])"
   ]
  },
  {
   "cell_type": "code",
   "execution_count": 5,
   "id": "18ca2e65-0b32-4871-a624-54f9cd5d2065",
   "metadata": {},
   "outputs": [],
   "source": [
    "data = data.reset_index()"
   ]
  },
  {
   "cell_type": "code",
   "execution_count": 6,
   "id": "4fdcf130-c8b0-40f3-83df-ab46101f16e4",
   "metadata": {},
   "outputs": [],
   "source": [
    "del data['index']"
   ]
  },
  {
   "cell_type": "code",
   "execution_count": 7,
   "id": "b951bafd-fdce-45ff-89bc-973d28469435",
   "metadata": {},
   "outputs": [
    {
     "data": {
      "text/html": [
       "<div>\n",
       "<style scoped>\n",
       "    .dataframe tbody tr th:only-of-type {\n",
       "        vertical-align: middle;\n",
       "    }\n",
       "\n",
       "    .dataframe tbody tr th {\n",
       "        vertical-align: top;\n",
       "    }\n",
       "\n",
       "    .dataframe thead th {\n",
       "        text-align: right;\n",
       "    }\n",
       "</style>\n",
       "<table border=\"1\" class=\"dataframe\">\n",
       "  <thead>\n",
       "    <tr style=\"text-align: right;\">\n",
       "      <th></th>\n",
       "      <th>question</th>\n",
       "    </tr>\n",
       "  </thead>\n",
       "  <tbody>\n",
       "    <tr>\n",
       "      <th>0</th>\n",
       "      <td>You are an expert who must answer a user’s que...</td>\n",
       "    </tr>\n",
       "    <tr>\n",
       "      <th>1</th>\n",
       "      <td>You are an expert who must answer a user’s que...</td>\n",
       "    </tr>\n",
       "    <tr>\n",
       "      <th>2</th>\n",
       "      <td>You are an expert who must answer a user’s que...</td>\n",
       "    </tr>\n",
       "    <tr>\n",
       "      <th>3</th>\n",
       "      <td>You are an expert who must answer a user’s que...</td>\n",
       "    </tr>\n",
       "    <tr>\n",
       "      <th>4</th>\n",
       "      <td>You are an expert who must answer a user’s que...</td>\n",
       "    </tr>\n",
       "    <tr>\n",
       "      <th>...</th>\n",
       "      <td>...</td>\n",
       "    </tr>\n",
       "    <tr>\n",
       "      <th>1745967</th>\n",
       "      <td>You are an expert who must answer a user’s que...</td>\n",
       "    </tr>\n",
       "    <tr>\n",
       "      <th>1745968</th>\n",
       "      <td>You are an expert who must answer a user’s que...</td>\n",
       "    </tr>\n",
       "    <tr>\n",
       "      <th>1745969</th>\n",
       "      <td>You are an expert who must answer a user’s que...</td>\n",
       "    </tr>\n",
       "    <tr>\n",
       "      <th>1745970</th>\n",
       "      <td>You are an expert who must answer a user’s que...</td>\n",
       "    </tr>\n",
       "    <tr>\n",
       "      <th>1745971</th>\n",
       "      <td>You are an expert who must answer a user’s que...</td>\n",
       "    </tr>\n",
       "  </tbody>\n",
       "</table>\n",
       "<p>1745972 rows × 1 columns</p>\n",
       "</div>"
      ],
      "text/plain": [
       "                                                  question\n",
       "0        You are an expert who must answer a user’s que...\n",
       "1        You are an expert who must answer a user’s que...\n",
       "2        You are an expert who must answer a user’s que...\n",
       "3        You are an expert who must answer a user’s que...\n",
       "4        You are an expert who must answer a user’s que...\n",
       "...                                                    ...\n",
       "1745967  You are an expert who must answer a user’s que...\n",
       "1745968  You are an expert who must answer a user’s que...\n",
       "1745969  You are an expert who must answer a user’s que...\n",
       "1745970  You are an expert who must answer a user’s que...\n",
       "1745971  You are an expert who must answer a user’s que...\n",
       "\n",
       "[1745972 rows x 1 columns]"
      ]
     },
     "execution_count": 7,
     "metadata": {},
     "output_type": "execute_result"
    }
   ],
   "source": [
    "data"
   ]
  },
  {
   "cell_type": "markdown",
   "id": "41ab7acd-92c6-40fe-af1a-1972ea5657b5",
   "metadata": {},
   "source": [
    "### Токенизация"
   ]
  },
  {
   "cell_type": "code",
   "execution_count": 4,
   "id": "16837c7f-496c-4af0-8766-70b2022c2792",
   "metadata": {},
   "outputs": [],
   "source": [
    "from transformers import AutoTokenizer"
   ]
  },
  {
   "cell_type": "code",
   "execution_count": 5,
   "id": "df041a09-2772-4ca4-bc0e-fc6f82f92247",
   "metadata": {},
   "outputs": [],
   "source": [
    "tokenizer = AutoTokenizer.from_pretrained('Qwen/Qwen1.5-0.5B')"
   ]
  },
  {
   "cell_type": "code",
   "execution_count": 6,
   "id": "16aca726-e087-493a-b05d-39186c869d68",
   "metadata": {},
   "outputs": [],
   "source": [
    "def tokenize(prompt):\n",
    "    result = tokenizer(prompt)\n",
    "    result[\"labels\"] = result[\"input_ids\"].copy()\n",
    "    return result"
   ]
  },
  {
   "cell_type": "code",
   "execution_count": null,
   "id": "3118706a-55a4-44c9-a1f1-1ae9620b8df4",
   "metadata": {},
   "outputs": [],
   "source": []
  },
  {
   "cell_type": "code",
   "execution_count": 9,
   "id": "ee766029-c3a7-436f-a548-b925e93621c0",
   "metadata": {},
   "outputs": [],
   "source": [
    "data1 = pd.read_csv('data1.csv')\n",
    "data11 = data1[:218246]\n",
    "data12 = data1[218246:]\n",
    "del data1"
   ]
  },
  {
   "cell_type": "code",
   "execution_count": 10,
   "id": "8518e774-c7c6-4415-9357-8d6e47206c9e",
   "metadata": {},
   "outputs": [
    {
     "name": "stderr",
     "output_type": "stream",
     "text": [
      "100%|█████████████████████████████████████████████████████████████████████████| 218246/218246 [04:52<00:00, 745.14it/s]\n"
     ]
    }
   ],
   "source": [
    "data11['question'] = data11['question'].progress_apply(tokenize)"
   ]
  },
  {
   "cell_type": "code",
   "execution_count": 11,
   "id": "4d094a97-4245-48ef-8307-3a43c4b4a484",
   "metadata": {},
   "outputs": [],
   "source": [
    "data11.to_csv('tok_data1.csv')\n",
    "del data11"
   ]
  },
  {
   "cell_type": "code",
   "execution_count": 12,
   "id": "58d0eed8-8560-4a12-acb4-3194c14dbc5b",
   "metadata": {},
   "outputs": [
    {
     "name": "stderr",
     "output_type": "stream",
     "text": [
      " 17%|████████████▊                                                             | 37754/218247 [01:00<03:53, 774.15it/s]Token indices sequence length is longer than the specified maximum sequence length for this model (35090 > 32768). Running this sequence through the model will result in indexing errors\n",
      "100%|█████████████████████████████████████████████████████████████████████████| 218247/218247 [05:54<00:00, 616.35it/s]\n"
     ]
    }
   ],
   "source": [
    "data12['question'] = data12['question'].progress_apply(tokenize)"
   ]
  },
  {
   "cell_type": "code",
   "execution_count": 13,
   "id": "7dded31f-49b3-45eb-9fb7-e2324e58e872",
   "metadata": {},
   "outputs": [],
   "source": [
    "data12.to_csv('tok_data12.csv')\n",
    "del data12"
   ]
  },
  {
   "cell_type": "code",
   "execution_count": 7,
   "id": "7f14f29d-bd97-4bf3-aa92-133d86780767",
   "metadata": {},
   "outputs": [],
   "source": [
    "data2 = pd.read_csv('data2.csv')\n",
    "data21 = data2[:218246]\n",
    "data22 = data2[218246:] \n",
    "del data2"
   ]
  },
  {
   "cell_type": "code",
   "execution_count": 21,
   "id": "22a127ce-f397-4cff-937b-f25c451b9bc0",
   "metadata": {},
   "outputs": [
    {
     "name": "stderr",
     "output_type": "stream",
     "text": [
      "100%|█████████████████████████████████████████████████████████████████████████| 218246/218246 [05:40<00:00, 641.86it/s]\n"
     ]
    }
   ],
   "source": [
    "data21['question'] = data21['question'].progress_apply(tokenize)"
   ]
  },
  {
   "cell_type": "code",
   "execution_count": 22,
   "id": "0a59ee13-f032-40fc-b787-99ee45859f6e",
   "metadata": {},
   "outputs": [],
   "source": [
    "data21.to_csv('tok_data21.csv')"
   ]
  },
  {
   "cell_type": "code",
   "execution_count": 8,
   "id": "dcfa6235-e255-446f-ab37-791e9c3b8261",
   "metadata": {},
   "outputs": [],
   "source": [
    "del data21"
   ]
  },
  {
   "cell_type": "code",
   "execution_count": 9,
   "id": "b605d7d8-3904-46fd-a83a-1d75280fb9ed",
   "metadata": {},
   "outputs": [
    {
     "name": "stderr",
     "output_type": "stream",
     "text": [
      "  0%|                                                                            | 154/218247 [00:00<04:40, 778.65it/s]Token indices sequence length is longer than the specified maximum sequence length for this model (36760 > 32768). Running this sequence through the model will result in indexing errors\n",
      "100%|█████████████████████████████████████████████████████████████████████████| 218247/218247 [05:30<00:00, 661.18it/s]\n"
     ]
    }
   ],
   "source": [
    "data22['question'] = data22['question'].progress_apply(tokenize)"
   ]
  },
  {
   "cell_type": "code",
   "execution_count": 10,
   "id": "b0048052-195f-4d80-ac71-7859268b2afb",
   "metadata": {},
   "outputs": [],
   "source": [
    "data22.to_csv('tok_data22.csv')\n",
    "del data22"
   ]
  },
  {
   "cell_type": "code",
   "execution_count": 8,
   "id": "6e510808-23d9-4954-89d9-9bb12e2a3d43",
   "metadata": {},
   "outputs": [],
   "source": [
    "data3 = pd.read_csv('data3.csv') \n",
    "data31 = data3[:218246]\n",
    "data32 = data3[218246:]\n",
    "del data3"
   ]
  },
  {
   "cell_type": "code",
   "execution_count": 14,
   "id": "17ac3192-70f7-4de2-99bf-7d82bf620c4e",
   "metadata": {},
   "outputs": [
    {
     "name": "stderr",
     "output_type": "stream",
     "text": [
      "100%|█████████████████████████████████████████████████████████████████████████| 218246/218246 [05:51<00:00, 620.40it/s]\n"
     ]
    }
   ],
   "source": [
    "data31['question'] = data31['question'].progress_apply(tokenize)"
   ]
  },
  {
   "cell_type": "code",
   "execution_count": 15,
   "id": "8ea71115-2d21-4fd4-a7ee-19e4cd21898a",
   "metadata": {},
   "outputs": [],
   "source": [
    "data31.to_csv('tok_data31.csv')\n",
    "del data31"
   ]
  },
  {
   "cell_type": "code",
   "execution_count": 9,
   "id": "121eda22-1981-4e1f-9933-a17faf1e0879",
   "metadata": {},
   "outputs": [
    {
     "data": {
      "text/html": [
       "<div>\n",
       "<style scoped>\n",
       "    .dataframe tbody tr th:only-of-type {\n",
       "        vertical-align: middle;\n",
       "    }\n",
       "\n",
       "    .dataframe tbody tr th {\n",
       "        vertical-align: top;\n",
       "    }\n",
       "\n",
       "    .dataframe thead th {\n",
       "        text-align: right;\n",
       "    }\n",
       "</style>\n",
       "<table border=\"1\" class=\"dataframe\">\n",
       "  <thead>\n",
       "    <tr style=\"text-align: right;\">\n",
       "      <th></th>\n",
       "      <th>Unnamed: 0</th>\n",
       "      <th>question</th>\n",
       "      <th>answer</th>\n",
       "    </tr>\n",
       "  </thead>\n",
       "  <tbody>\n",
       "    <tr>\n",
       "      <th>218246</th>\n",
       "      <td>1091232</td>\n",
       "      <td>You are an expert who must answer a user’s que...</td>\n",
       "      <td>By default, Coverage Gutter expectes to read t...</td>\n",
       "    </tr>\n",
       "    <tr>\n",
       "      <th>218247</th>\n",
       "      <td>1091233</td>\n",
       "      <td>You are an expert who must answer a user’s que...</td>\n",
       "      <td>ID should be used, instead of sid, since it is...</td>\n",
       "    </tr>\n",
       "    <tr>\n",
       "      <th>218248</th>\n",
       "      <td>1091234</td>\n",
       "      <td>You are an expert who must answer a user’s que...</td>\n",
       "      <td>Creating a table with pandas over sqlalchemy c...</td>\n",
       "    </tr>\n",
       "    <tr>\n",
       "      <th>218249</th>\n",
       "      <td>1091235</td>\n",
       "      <td>You are an expert who must answer a user’s que...</td>\n",
       "      <td>You may write a generator of floats similar to...</td>\n",
       "    </tr>\n",
       "    <tr>\n",
       "      <th>218250</th>\n",
       "      <td>1091236</td>\n",
       "      <td>You are an expert who must answer a user’s que...</td>\n",
       "      <td>Happened same thing to me. i deleted the table...</td>\n",
       "    </tr>\n",
       "    <tr>\n",
       "      <th>...</th>\n",
       "      <td>...</td>\n",
       "      <td>...</td>\n",
       "      <td>...</td>\n",
       "    </tr>\n",
       "    <tr>\n",
       "      <th>436488</th>\n",
       "      <td>1309474</td>\n",
       "      <td>You are an expert who must answer a user’s que...</td>\n",
       "      <td>I would suggest splitting your data into three...</td>\n",
       "    </tr>\n",
       "    <tr>\n",
       "      <th>436489</th>\n",
       "      <td>1309475</td>\n",
       "      <td>You are an expert who must answer a user’s que...</td>\n",
       "      <td>This is a documented part of itertools.groupby...</td>\n",
       "    </tr>\n",
       "    <tr>\n",
       "      <th>436490</th>\n",
       "      <td>1309476</td>\n",
       "      <td>You are an expert who must answer a user’s que...</td>\n",
       "      <td>import hmac\\nimport hashlib\\nimport base64\\ndi...</td>\n",
       "    </tr>\n",
       "    <tr>\n",
       "      <th>436491</th>\n",
       "      <td>1309477</td>\n",
       "      <td>You are an expert who must answer a user’s que...</td>\n",
       "      <td>Instead of task_all, I believe you could call ...</td>\n",
       "    </tr>\n",
       "    <tr>\n",
       "      <th>436492</th>\n",
       "      <td>1309478</td>\n",
       "      <td>You are an expert who must answer a user’s que...</td>\n",
       "      <td>You can use different approaches:\\nA: Join you...</td>\n",
       "    </tr>\n",
       "  </tbody>\n",
       "</table>\n",
       "<p>218247 rows × 3 columns</p>\n",
       "</div>"
      ],
      "text/plain": [
       "        Unnamed: 0                                           question  \\\n",
       "218246     1091232  You are an expert who must answer a user’s que...   \n",
       "218247     1091233  You are an expert who must answer a user’s que...   \n",
       "218248     1091234  You are an expert who must answer a user’s que...   \n",
       "218249     1091235  You are an expert who must answer a user’s que...   \n",
       "218250     1091236  You are an expert who must answer a user’s que...   \n",
       "...            ...                                                ...   \n",
       "436488     1309474  You are an expert who must answer a user’s que...   \n",
       "436489     1309475  You are an expert who must answer a user’s que...   \n",
       "436490     1309476  You are an expert who must answer a user’s que...   \n",
       "436491     1309477  You are an expert who must answer a user’s que...   \n",
       "436492     1309478  You are an expert who must answer a user’s que...   \n",
       "\n",
       "                                                   answer  \n",
       "218246  By default, Coverage Gutter expectes to read t...  \n",
       "218247  ID should be used, instead of sid, since it is...  \n",
       "218248  Creating a table with pandas over sqlalchemy c...  \n",
       "218249  You may write a generator of floats similar to...  \n",
       "218250  Happened same thing to me. i deleted the table...  \n",
       "...                                                   ...  \n",
       "436488  I would suggest splitting your data into three...  \n",
       "436489  This is a documented part of itertools.groupby...  \n",
       "436490  import hmac\\nimport hashlib\\nimport base64\\ndi...  \n",
       "436491  Instead of task_all, I believe you could call ...  \n",
       "436492  You can use different approaches:\\nA: Join you...  \n",
       "\n",
       "[218247 rows x 3 columns]"
      ]
     },
     "execution_count": 9,
     "metadata": {},
     "output_type": "execute_result"
    }
   ],
   "source": [
    "data32"
   ]
  },
  {
   "cell_type": "code",
   "execution_count": 10,
   "id": "6422ab49-f6a1-4c0b-8fac-ab5c4d364bca",
   "metadata": {},
   "outputs": [],
   "source": [
    "del data32['Unnamed: 0']\n",
    "del data32['answer']"
   ]
  },
  {
   "cell_type": "code",
   "execution_count": null,
   "id": "e7aa996f-e2dd-4161-91a3-b230ed3d66aa",
   "metadata": {},
   "outputs": [
    {
     "name": "stderr",
     "output_type": "stream",
     "text": [
      " 56%|████████████████████████████████████████▊                                | 122047/218247 [03:09<02:34, 623.31it/s]Token indices sequence length is longer than the specified maximum sequence length for this model (41824 > 32768). Running this sequence through the model will result in indexing errors\n",
      " 89%|████████████████████████████████████████████████████████████████▋        | 193256/218247 [05:15<00:41, 601.11it/s]"
     ]
    }
   ],
   "source": [
    "data32['question'] = data32['question'].progress_apply(tokenize)"
   ]
  },
  {
   "cell_type": "code",
   "execution_count": null,
   "id": "349d1bd9-83a6-4796-a9ab-14b9f7a4e3e0",
   "metadata": {},
   "outputs": [],
   "source": [
    "data32.to_csv('tok_data32.csv')\n",
    "del data32"
   ]
  },
  {
   "cell_type": "code",
   "execution_count": null,
   "id": "8aef9104-13bb-4849-8efb-6a4ead3cc317",
   "metadata": {},
   "outputs": [],
   "source": [
    "data4 = pd.read_csv('data1.csv') \n",
    "data31 = data2[:218246]\n",
    "data32 = data2[218246:]\n",
    "del data3"
   ]
  },
  {
   "cell_type": "code",
   "execution_count": null,
   "id": "c6252b68-f59f-4faa-8113-501aa225e783",
   "metadata": {},
   "outputs": [],
   "source": []
  },
  {
   "cell_type": "code",
   "execution_count": null,
   "id": "e1c2d90d-a013-4285-8580-54e0c029f198",
   "metadata": {},
   "outputs": [],
   "source": []
  }
 ],
 "metadata": {
  "kernelspec": {
   "display_name": "Python 3 (ipykernel)",
   "language": "python",
   "name": "python3"
  },
  "language_info": {
   "codemirror_mode": {
    "name": "ipython",
    "version": 3
   },
   "file_extension": ".py",
   "mimetype": "text/x-python",
   "name": "python",
   "nbconvert_exporter": "python",
   "pygments_lexer": "ipython3",
   "version": "3.11.2"
  }
 },
 "nbformat": 4,
 "nbformat_minor": 5
}
