{
 "cells": [
  {
   "cell_type": "markdown",
   "id": "311f268c-7ab6-4b94-854d-ec97dc84c836",
   "metadata": {},
   "source": [
    "Устанавливаем и импортируем библиотеки"
   ]
  },
  {
   "cell_type": "code",
   "execution_count": 43,
   "id": "0fb56d38-97d9-4901-ab06-de59a9a4c09d",
   "metadata": {
    "scrolled": true
   },
   "outputs": [
    {
     "name": "stdout",
     "output_type": "stream",
     "text": [
      "Requirement already satisfied: transformers in c:\\users\\user_pc\\appdata\\local\\programs\\python\\python311\\lib\\site-packages (4.43.3)\n",
      "Requirement already satisfied: datasets in c:\\users\\user_pc\\appdata\\local\\programs\\python\\python311\\lib\\site-packages (2.20.0)\n",
      "Requirement already satisfied: matplotlib in c:\\users\\user_pc\\appdata\\local\\programs\\python\\python311\\lib\\site-packages (3.9.1.post1)\n",
      "Requirement already satisfied: tables in c:\\users\\user_pc\\appdata\\local\\programs\\python\\python311\\lib\\site-packages (3.9.2)\n",
      "Collecting wandb\n",
      "  Downloading wandb-0.17.6-py3-none-win_amd64.whl.metadata (10 kB)\n",
      "Requirement already satisfied: filelock in c:\\users\\user_pc\\appdata\\local\\programs\\python\\python311\\lib\\site-packages (from transformers) (3.15.4)\n",
      "Requirement already satisfied: huggingface-hub<1.0,>=0.23.2 in c:\\users\\user_pc\\appdata\\local\\programs\\python\\python311\\lib\\site-packages (from transformers) (0.24.5)\n",
      "Requirement already satisfied: numpy>=1.17 in c:\\users\\user_pc\\appdata\\local\\programs\\python\\python311\\lib\\site-packages (from transformers) (1.26.4)\n",
      "Requirement already satisfied: packaging>=20.0 in c:\\users\\user_pc\\appdata\\local\\programs\\python\\python311\\lib\\site-packages (from transformers) (24.1)\n",
      "Requirement already satisfied: pyyaml>=5.1 in c:\\users\\user_pc\\appdata\\local\\programs\\python\\python311\\lib\\site-packages (from transformers) (6.0.1)\n",
      "Requirement already satisfied: regex!=2019.12.17 in c:\\users\\user_pc\\appdata\\local\\programs\\python\\python311\\lib\\site-packages (from transformers) (2024.7.24)\n",
      "Requirement already satisfied: requests in c:\\users\\user_pc\\appdata\\local\\programs\\python\\python311\\lib\\site-packages (from transformers) (2.32.3)\n",
      "Requirement already satisfied: safetensors>=0.4.1 in c:\\users\\user_pc\\appdata\\local\\programs\\python\\python311\\lib\\site-packages (from transformers) (0.4.3)\n",
      "Requirement already satisfied: tokenizers<0.20,>=0.19 in c:\\users\\user_pc\\appdata\\local\\programs\\python\\python311\\lib\\site-packages (from transformers) (0.19.1)\n",
      "Requirement already satisfied: tqdm>=4.27 in c:\\users\\user_pc\\appdata\\local\\programs\\python\\python311\\lib\\site-packages (from transformers) (4.66.4)\n",
      "Requirement already satisfied: pyarrow>=15.0.0 in c:\\users\\user_pc\\appdata\\local\\programs\\python\\python311\\lib\\site-packages (from datasets) (17.0.0)\n",
      "Requirement already satisfied: pyarrow-hotfix in c:\\users\\user_pc\\appdata\\local\\programs\\python\\python311\\lib\\site-packages (from datasets) (0.6)\n",
      "Requirement already satisfied: dill<0.3.9,>=0.3.0 in c:\\users\\user_pc\\appdata\\local\\programs\\python\\python311\\lib\\site-packages (from datasets) (0.3.8)\n",
      "Requirement already satisfied: pandas in c:\\users\\user_pc\\appdata\\local\\programs\\python\\python311\\lib\\site-packages (from datasets) (2.2.2)\n",
      "Requirement already satisfied: xxhash in c:\\users\\user_pc\\appdata\\local\\programs\\python\\python311\\lib\\site-packages (from datasets) (3.4.1)\n",
      "Requirement already satisfied: multiprocess in c:\\users\\user_pc\\appdata\\local\\programs\\python\\python311\\lib\\site-packages (from datasets) (0.70.16)\n",
      "Requirement already satisfied: fsspec<=2024.5.0,>=2023.1.0 in c:\\users\\user_pc\\appdata\\local\\programs\\python\\python311\\lib\\site-packages (from fsspec[http]<=2024.5.0,>=2023.1.0->datasets) (2024.5.0)\n",
      "Requirement already satisfied: aiohttp in c:\\users\\user_pc\\appdata\\local\\programs\\python\\python311\\lib\\site-packages (from datasets) (3.9.5)\n",
      "Requirement already satisfied: contourpy>=1.0.1 in c:\\users\\user_pc\\appdata\\local\\programs\\python\\python311\\lib\\site-packages (from matplotlib) (1.2.1)\n",
      "Requirement already satisfied: cycler>=0.10 in c:\\users\\user_pc\\appdata\\local\\programs\\python\\python311\\lib\\site-packages (from matplotlib) (0.12.1)\n",
      "Requirement already satisfied: fonttools>=4.22.0 in c:\\users\\user_pc\\appdata\\local\\programs\\python\\python311\\lib\\site-packages (from matplotlib) (4.53.1)\n",
      "Requirement already satisfied: kiwisolver>=1.3.1 in c:\\users\\user_pc\\appdata\\local\\programs\\python\\python311\\lib\\site-packages (from matplotlib) (1.4.5)\n",
      "Requirement already satisfied: pillow>=8 in c:\\users\\user_pc\\appdata\\local\\programs\\python\\python311\\lib\\site-packages (from matplotlib) (10.4.0)\n",
      "Requirement already satisfied: pyparsing>=2.3.1 in c:\\users\\user_pc\\appdata\\local\\programs\\python\\python311\\lib\\site-packages (from matplotlib) (3.1.2)\n",
      "Requirement already satisfied: python-dateutil>=2.7 in c:\\users\\user_pc\\appdata\\local\\programs\\python\\python311\\lib\\site-packages (from matplotlib) (2.9.0.post0)\n",
      "Requirement already satisfied: numexpr>=2.6.2 in c:\\users\\user_pc\\appdata\\local\\programs\\python\\python311\\lib\\site-packages (from tables) (2.10.1)\n",
      "Requirement already satisfied: py-cpuinfo in c:\\users\\user_pc\\appdata\\local\\programs\\python\\python311\\lib\\site-packages (from tables) (9.0.0)\n",
      "Requirement already satisfied: blosc2>=2.3.0 in c:\\users\\user_pc\\appdata\\local\\programs\\python\\python311\\lib\\site-packages (from tables) (2.7.1)\n",
      "Collecting click!=8.0.0,>=7.1 (from wandb)\n",
      "  Downloading click-8.1.7-py3-none-any.whl.metadata (3.0 kB)\n",
      "Collecting docker-pycreds>=0.4.0 (from wandb)\n",
      "  Downloading docker_pycreds-0.4.0-py2.py3-none-any.whl.metadata (1.8 kB)\n",
      "Collecting gitpython!=3.1.29,>=1.0.0 (from wandb)\n",
      "  Downloading GitPython-3.1.43-py3-none-any.whl.metadata (13 kB)\n",
      "Requirement already satisfied: platformdirs in c:\\users\\user_pc\\appdata\\local\\programs\\python\\python311\\lib\\site-packages (from wandb) (4.2.2)\n",
      "Collecting protobuf!=4.21.0,<6,>=3.19.0 (from wandb)\n",
      "  Downloading protobuf-5.27.3-cp310-abi3-win_amd64.whl.metadata (592 bytes)\n",
      "Requirement already satisfied: psutil>=5.0.0 in c:\\users\\user_pc\\appdata\\local\\programs\\python\\python311\\lib\\site-packages (from wandb) (6.0.0)\n",
      "Collecting sentry-sdk>=1.0.0 (from wandb)\n",
      "  Downloading sentry_sdk-2.13.0-py2.py3-none-any.whl.metadata (9.7 kB)\n",
      "Collecting setproctitle (from wandb)\n",
      "  Downloading setproctitle-1.3.3-cp311-cp311-win_amd64.whl.metadata (10 kB)\n",
      "Requirement already satisfied: setuptools in c:\\users\\user_pc\\appdata\\local\\programs\\python\\python311\\lib\\site-packages (from wandb) (65.5.0)\n",
      "Requirement already satisfied: ndindex>=1.4 in c:\\users\\user_pc\\appdata\\local\\programs\\python\\python311\\lib\\site-packages (from blosc2>=2.3.0->tables) (1.8)\n",
      "Requirement already satisfied: msgpack in c:\\users\\user_pc\\appdata\\local\\programs\\python\\python311\\lib\\site-packages (from blosc2>=2.3.0->tables) (1.0.8)\n",
      "Requirement already satisfied: colorama in c:\\users\\user_pc\\appdata\\local\\programs\\python\\python311\\lib\\site-packages (from click!=8.0.0,>=7.1->wandb) (0.4.6)\n",
      "Requirement already satisfied: six>=1.4.0 in c:\\users\\user_pc\\appdata\\local\\programs\\python\\python311\\lib\\site-packages (from docker-pycreds>=0.4.0->wandb) (1.16.0)\n",
      "Requirement already satisfied: aiosignal>=1.1.2 in c:\\users\\user_pc\\appdata\\local\\programs\\python\\python311\\lib\\site-packages (from aiohttp->datasets) (1.3.1)\n",
      "Requirement already satisfied: attrs>=17.3.0 in c:\\users\\user_pc\\appdata\\local\\programs\\python\\python311\\lib\\site-packages (from aiohttp->datasets) (23.2.0)\n",
      "Requirement already satisfied: frozenlist>=1.1.1 in c:\\users\\user_pc\\appdata\\local\\programs\\python\\python311\\lib\\site-packages (from aiohttp->datasets) (1.3.3)\n",
      "Requirement already satisfied: multidict<7.0,>=4.5 in c:\\users\\user_pc\\appdata\\local\\programs\\python\\python311\\lib\\site-packages (from aiohttp->datasets) (6.0.4)\n",
      "Requirement already satisfied: yarl<2.0,>=1.0 in c:\\users\\user_pc\\appdata\\local\\programs\\python\\python311\\lib\\site-packages (from aiohttp->datasets) (1.8.2)\n",
      "Collecting gitdb<5,>=4.0.1 (from gitpython!=3.1.29,>=1.0.0->wandb)\n",
      "  Downloading gitdb-4.0.11-py3-none-any.whl.metadata (1.2 kB)\n",
      "Requirement already satisfied: typing-extensions>=3.7.4.3 in c:\\users\\user_pc\\appdata\\local\\programs\\python\\python311\\lib\\site-packages (from huggingface-hub<1.0,>=0.23.2->transformers) (4.12.2)\n",
      "Requirement already satisfied: charset-normalizer<4,>=2 in c:\\users\\user_pc\\appdata\\local\\programs\\python\\python311\\lib\\site-packages (from requests->transformers) (3.1.0)\n",
      "Requirement already satisfied: idna<4,>=2.5 in c:\\users\\user_pc\\appdata\\local\\programs\\python\\python311\\lib\\site-packages (from requests->transformers) (3.4)\n",
      "Requirement already satisfied: urllib3<3,>=1.21.1 in c:\\users\\user_pc\\appdata\\local\\programs\\python\\python311\\lib\\site-packages (from requests->transformers) (2.0.6)\n",
      "Requirement already satisfied: certifi>=2017.4.17 in c:\\users\\user_pc\\appdata\\local\\programs\\python\\python311\\lib\\site-packages (from requests->transformers) (2023.7.22)\n",
      "Requirement already satisfied: pytz>=2020.1 in c:\\users\\user_pc\\appdata\\local\\programs\\python\\python311\\lib\\site-packages (from pandas->datasets) (2024.1)\n",
      "Requirement already satisfied: tzdata>=2022.7 in c:\\users\\user_pc\\appdata\\local\\programs\\python\\python311\\lib\\site-packages (from pandas->datasets) (2024.1)\n",
      "Collecting smmap<6,>=3.0.1 (from gitdb<5,>=4.0.1->gitpython!=3.1.29,>=1.0.0->wandb)\n",
      "  Downloading smmap-5.0.1-py3-none-any.whl.metadata (4.3 kB)\n",
      "Downloading wandb-0.17.6-py3-none-win_amd64.whl (6.5 MB)\n",
      "   ---------------------------------------- 0.0/6.5 MB ? eta -:--:--\n",
      "   --- ------------------------------------ 0.5/6.5 MB 4.2 MB/s eta 0:00:02\n",
      "   ----------- ---------------------------- 1.8/6.5 MB 7.2 MB/s eta 0:00:01\n",
      "   ---------------------- ----------------- 3.7/6.5 MB 7.5 MB/s eta 0:00:01\n",
      "   -------------------------------- ------- 5.2/6.5 MB 7.4 MB/s eta 0:00:01\n",
      "   ---------------------------------------- 6.5/6.5 MB 8.5 MB/s eta 0:00:00\n",
      "Downloading click-8.1.7-py3-none-any.whl (97 kB)\n",
      "Downloading docker_pycreds-0.4.0-py2.py3-none-any.whl (9.0 kB)\n",
      "Downloading GitPython-3.1.43-py3-none-any.whl (207 kB)\n",
      "Downloading protobuf-5.27.3-cp310-abi3-win_amd64.whl (426 kB)\n",
      "Downloading sentry_sdk-2.13.0-py2.py3-none-any.whl (309 kB)\n",
      "Downloading setproctitle-1.3.3-cp311-cp311-win_amd64.whl (11 kB)\n",
      "Downloading gitdb-4.0.11-py3-none-any.whl (62 kB)\n",
      "Downloading smmap-5.0.1-py3-none-any.whl (24 kB)\n",
      "Installing collected packages: smmap, setproctitle, sentry-sdk, protobuf, docker-pycreds, click, gitdb, gitpython, wandb\n",
      "Successfully installed click-8.1.7 docker-pycreds-0.4.0 gitdb-4.0.11 gitpython-3.1.43 protobuf-5.27.3 sentry-sdk-2.13.0 setproctitle-1.3.3 smmap-5.0.1 wandb-0.17.6\n"
     ]
    }
   ],
   "source": [
    "!pip3 install transformers datasets matplotlib tables wandb"
   ]
  },
  {
   "cell_type": "code",
   "execution_count": 2,
   "id": "79c3014b-382d-4bf4-a423-f5f93d0c98c7",
   "metadata": {},
   "outputs": [],
   "source": [
    "from transformers import AutoTokenizer\n",
    "from datasets import load_dataset\n",
    "from tqdm import tqdm\n",
    "tqdm.pandas()\n",
    "import pandas as pd\n",
    "import json"
   ]
  },
  {
   "cell_type": "markdown",
   "id": "9286a0c8-7d2a-4656-9a04-0bc195342640",
   "metadata": {},
   "source": [
    "Скачиваем датасет и удаляем ненужные столбцы"
   ]
  },
  {
   "cell_type": "code",
   "execution_count": 3,
   "id": "5536f33f-8d8b-4867-950c-3c7de088f96a",
   "metadata": {},
   "outputs": [
    {
     "data": {
      "application/vnd.jupyter.widget-view+json": {
       "model_id": "5e4198de73a749b4980d3097d3bfd628",
       "version_major": 2,
       "version_minor": 0
      },
      "text/plain": [
       "Resolving data files:   0%|          | 0/19 [00:00<?, ?it/s]"
      ]
     },
     "metadata": {},
     "output_type": "display_data"
    },
    {
     "data": {
      "application/vnd.jupyter.widget-view+json": {
       "model_id": "66b27d1cd6b444c3b49710a86d459391",
       "version_major": 2,
       "version_minor": 0
      },
      "text/plain": [
       "Loading dataset shards:   0%|          | 0/19 [00:00<?, ?it/s]"
      ]
     },
     "metadata": {},
     "output_type": "display_data"
    }
   ],
   "source": [
    "data = load_dataset('suriyagunasekar/stackoverflow-python-with-meta-data')\n",
    "data = data['train']\n",
    "data = data.to_pandas()\n",
    "\n",
    "del data['content']\n",
    "del data['title']\n",
    "del data['non_answers']\n",
    "del data['non_answers_scores']\n",
    "del data['tags']\n",
    "del data['name']"
   ]
  },
  {
   "cell_type": "markdown",
   "id": "da0c154b-716d-4b69-a051-46e4470eb4ba",
   "metadata": {},
   "source": [
    "Удаляем вопросы на котороые нет ответа и вопросы на которые ответ собрал 0 голоов. "
   ]
  },
  {
   "cell_type": "code",
   "execution_count": 4,
   "id": "3ccfab54-8977-492e-873b-d15a8c8eb8cf",
   "metadata": {},
   "outputs": [],
   "source": [
    "data = data[data['answers_scores'].map(len) > 0]\n",
    "data = data[data['answers_scores'].map(lambda x: x[0]) > 0]"
   ]
  },
  {
   "cell_type": "markdown",
   "id": "08b586be-656b-41cc-8dc1-6604509bd4a4",
   "metadata": {},
   "source": [
    "Удаляем столбец с голосами за ответ и оставляем только первый ответ на вопрос."
   ]
  },
  {
   "cell_type": "code",
   "execution_count": 5,
   "id": "1523193c-dbe1-460a-b529-0e90fccbd18e",
   "metadata": {},
   "outputs": [],
   "source": [
    "del data['answers_scores']"
   ]
  },
  {
   "cell_type": "code",
   "execution_count": 6,
   "id": "30f2ca08-0eed-4847-952b-8c4373147a48",
   "metadata": {},
   "outputs": [
    {
     "name": "stderr",
     "output_type": "stream",
     "text": [
      "100%|███████████████████████████████████████████████████████████████████| 1211172/1211172 [00:00<00:00, 1498639.45it/s]\n"
     ]
    }
   ],
   "source": [
    "data['answers'] = data['answers'].progress_apply(lambda x: x[0])"
   ]
  },
  {
   "cell_type": "markdown",
   "id": "5140f5f1-1231-4531-aa60-4bfdc417097a",
   "metadata": {},
   "source": [
    "Добавляем вводный текст для нейросети и создаем готовый для токенизации текст. "
   ]
  },
  {
   "cell_type": "code",
   "execution_count": 7,
   "id": "aea8cc44-2556-4118-b158-4a8b9395b1d9",
   "metadata": {},
   "outputs": [],
   "source": [
    "def generate_full_text(line):\n",
    "    return 'You are an expert who must answer a user’s question on the site regarding questions about python programming. User question: ' + line['question'] + ' Your answer: ' + line['answers']"
   ]
  },
  {
   "cell_type": "code",
   "execution_count": 8,
   "id": "df91e1a6-ce5d-418d-a1f9-41b44dca5406",
   "metadata": {},
   "outputs": [
    {
     "name": "stderr",
     "output_type": "stream",
     "text": [
      "100%|████████████████████████████████████████████████████████████████████| 1211172/1211172 [00:11<00:00, 106901.23it/s]\n"
     ]
    }
   ],
   "source": [
    "data['full_text'] = data.progress_apply(generate_full_text, axis = 1)"
   ]
  },
  {
   "cell_type": "code",
   "execution_count": 9,
   "id": "e123276c-49f1-463b-af28-4a27f1073f6e",
   "metadata": {},
   "outputs": [],
   "source": [
    "del data['question']\n",
    "del data['answers']"
   ]
  },
  {
   "cell_type": "markdown",
   "id": "60dd9637-ab21-4bc7-a71a-b47c7083e708",
   "metadata": {},
   "source": [
    "Токенизируем данные, делая это по частям чтобы хватало памяти."
   ]
  },
  {
   "cell_type": "code",
   "execution_count": 62,
   "id": "0a845514-3786-4d75-99cd-c7f1efaae8a3",
   "metadata": {},
   "outputs": [],
   "source": [
    "max_length = 900\n",
    "\n",
    "tokenizer = AutoTokenizer.from_pretrained(\n",
    "    'Qwen/Qwen1.5-0.5B',\n",
    "    padding_side=\"left\",\n",
    "    add_eos_token=True,  \n",
    "    add_bos_token=True,  \n",
    ")\n",
    "tokenizer.pad_token = tokenizer.eos_token\n",
    "\n",
    "\n",
    "def tokenize(prompt):\n",
    "    result = tokenizer(\n",
    "        prompt,\n",
    "        truncation=True,\n",
    "        max_length=max_length,\n",
    "        padding=\"max_length\",\n",
    "    )\n",
    "    result[\"labels\"] = result[\"input_ids\"].copy()\n",
    "    return result"
   ]
  },
  {
   "cell_type": "code",
   "execution_count": 63,
   "id": "9a4639df-bca5-4e84-ac49-f522b6eeeb2c",
   "metadata": {},
   "outputs": [],
   "source": [
    "test = data[:100]"
   ]
  },
  {
   "cell_type": "code",
   "execution_count": 64,
   "id": "c0fdb3d7-7f3b-4fb2-923c-6f4371ce6a9f",
   "metadata": {},
   "outputs": [
    {
     "name": "stderr",
     "output_type": "stream",
     "text": [
      "100%|███████████████████████████████████████████████████████████████████████████████| 100/100 [00:00<00:00, 694.35it/s]\n",
      "C:\\Users\\User_PC\\AppData\\Local\\Temp\\ipykernel_7240\\4140176995.py:1: SettingWithCopyWarning: \n",
      "A value is trying to be set on a copy of a slice from a DataFrame.\n",
      "Try using .loc[row_indexer,col_indexer] = value instead\n",
      "\n",
      "See the caveats in the documentation: https://pandas.pydata.org/pandas-docs/stable/user_guide/indexing.html#returning-a-view-versus-a-copy\n",
      "  test['full_text'] = test['full_text'].progress_apply(tokenize)\n"
     ]
    }
   ],
   "source": [
    "test['full_text'] = test['full_text'].progress_apply(tokenize)"
   ]
  },
  {
   "cell_type": "code",
   "execution_count": 13,
   "id": "a5ed156c-b905-468a-9d0b-2a38bc73e2aa",
   "metadata": {},
   "outputs": [],
   "source": [
    "test.to_json('test.json', orient = 'records')"
   ]
  },
  {
   "cell_type": "code",
   "execution_count": 11,
   "id": "3e9336dc-10ce-41c7-ae79-5da29a789c2e",
   "metadata": {},
   "outputs": [],
   "source": [
    "data1 = data[:int(len(data) / 16)].reset_index()\n",
    "data2 = data[int(len(data) / 16) : int(len(data) / 16) * 2].reset_index()\n",
    "data3 = data[int(len(data) / 16) * 2 : int(len(data) / 16) * 3].reset_index()\n",
    "data4 = data[int(len(data) / 16) * 3 : int(len(data) / 16) * 4].reset_index()\n",
    "data5 = data[int(len(data) / 16) * 4 : int(len(data) / 16) * 5].reset_index()\n",
    "data6 = data[int(len(data) / 16) * 5 : int(len(data) / 16) * 6].reset_index()\n",
    "data7 = data[int(len(data) / 16) * 6 : int(len(data) / 16) * 7].reset_index()\n",
    "data8 = data[int(len(data) / 16) * 7 : int(len(data) / 16) * 8].reset_index()\n",
    "data9 = data[int(len(data) / 16) * 8 : int(len(data) / 16) * 9].reset_index()\n",
    "data10 = data[int(len(data) / 16) * 9 : int(len(data) / 16) * 10].reset_index()\n",
    "data11 = data[int(len(data) / 16) * 10 : int(len(data) / 16) * 11].reset_index()\n",
    "data12 = data[int(len(data) / 16) * 11 : int(len(data) / 16) * 12].reset_index()\n",
    "data13 = data[int(len(data) / 16) * 12 : int(len(data) / 16) * 13].reset_index()\n",
    "data14 = data[int(len(data) / 16) * 13 : int(len(data) / 16) * 14].reset_index()\n",
    "data15 = data[int(len(data) / 16) * 14 : int(len(data) / 16) * 15].reset_index()\n",
    "data16 = data[int(len(data) / 16) * 15 :].reset_index()\n",
    "\n",
    "del data1['index']\n",
    "del data2['index']\n",
    "del data3['index']\n",
    "del data4['index']\n",
    "del data5['index']\n",
    "del data6['index']\n",
    "del data7['index']\n",
    "del data8['index']\n",
    "del data9['index']\n",
    "del data10['index']"
   ]
  },
  {
   "cell_type": "code",
   "execution_count": 12,
   "id": "2d157a35-6034-4746-8d77-eeb57b66eac8",
   "metadata": {},
   "outputs": [
    {
     "name": "stderr",
     "output_type": "stream",
     "text": [
      "100%|███████████████████████████████████████████████████████████████████████████| 75698/75698 [01:27<00:00, 866.34it/s]\n"
     ]
    }
   ],
   "source": [
    "data1['full_text'] = data1['full_text'].progress_apply(tokenize)"
   ]
  },
  {
   "cell_type": "code",
   "execution_count": 13,
   "id": "3b729671-35ee-49d6-806a-552f9790f2d3",
   "metadata": {},
   "outputs": [],
   "source": [
    "data1.to_json('data1.json', orient = 'records')"
   ]
  },
  {
   "cell_type": "code",
   "execution_count": null,
   "id": "716fb14e-115f-4730-9125-60f2749cca02",
   "metadata": {},
   "outputs": [],
   "source": [
    "data2['full_text'] = data2['full_text'].progress_apply(tokenize)"
   ]
  },
  {
   "cell_type": "markdown",
   "id": "f5807df8-d5a7-452e-8b95-666e1af360cc",
   "metadata": {},
   "source": []
  },
  {
   "cell_type": "code",
   "execution_count": 23,
   "id": "464a0415-8753-4e94-b7d8-68c1a389dfe0",
   "metadata": {},
   "outputs": [],
   "source": [
    "from transformers import AutoModelForCausalLM\n",
    "\n",
    "model = AutoModelForCausalLM.from_pretrained('Qwen/Qwen1.5-0.5B')"
   ]
  },
  {
   "cell_type": "code",
   "execution_count": 45,
   "id": "1e821082-be76-4007-b638-cd19cc550a19",
   "metadata": {},
   "outputs": [
    {
     "name": "stderr",
     "output_type": "stream",
     "text": [
      "wandb: Currently logged in as: n-d-arkhipov (n-d-arkhipov-home). Use `wandb login --relogin` to force relogin\n"
     ]
    }
   ],
   "source": [
    "import wandb, os\n",
    "wandb.login()\n",
    "\n",
    "wandb_project = \"qwen-finetune\"\n",
    "os.environ[\"WANDB_PROJECT\"] = wandb_project"
   ]
  },
  {
   "cell_type": "code",
   "execution_count": 65,
   "id": "109ab7b2-80a5-4630-babe-620b4e25feb1",
   "metadata": {},
   "outputs": [],
   "source": [
    "from peft import LoraConfig, TaskType, get_peft_model\n",
    "\n",
    "config = LoraConfig(task_type = TaskType.CAUSAL_LM, r = 8, lora_alpha = 16, lora_dropout = 0.1)\n",
    "model = get_peft_model(model, config)"
   ]
  },
  {
   "cell_type": "code",
   "execution_count": 66,
   "id": "0b113076-3668-4f8c-8ea2-2d0867872cd8",
   "metadata": {},
   "outputs": [
    {
     "name": "stdout",
     "output_type": "stream",
     "text": [
      "trainable params: 786,432 || all params: 464,774,144 || trainable%: 0.1692\n"
     ]
    }
   ],
   "source": [
    "model.print_trainable_parameters()"
   ]
  },
  {
   "cell_type": "code",
   "execution_count": 67,
   "id": "f50633ba-4262-416f-acca-e853849daebd",
   "metadata": {},
   "outputs": [],
   "source": [
    "from transformers import TrainingArguments, Trainer, DataCollatorForLanguageModeling\n",
    "\n",
    "training_args = TrainingArguments(output_dir = 'D:\\SO_python', learning_rate=2.5e-5, per_device_train_batch_size=2, num_train_epochs = 2, eval_strategy=\"epoch\", save_strategy=\"epoch\",report_to=\"wandb\")\n",
    "\n",
    "data_collator = DataCollatorForLanguageModeling(tokenizer, mlm = False)\n",
    "trainer = Trainer(model = model, args=training_args, train_dataset = test['full_text'], tokenizer=tokenizer, data_collator = data_collator)"
   ]
  },
  {
   "cell_type": "code",
   "execution_count": null,
   "id": "633bfe2c-803e-4d23-8375-03e1d1b3a0c2",
   "metadata": {},
   "outputs": [],
   "source": [
    "trainer.train()"
   ]
  },
  {
   "cell_type": "code",
   "execution_count": null,
   "id": "4789e7e4-3c03-455e-9149-2cea1d2d44c2",
   "metadata": {},
   "outputs": [],
   "source": []
  }
 ],
 "metadata": {
  "kernelspec": {
   "display_name": "Python 3 (ipykernel)",
   "language": "python",
   "name": "python3"
  },
  "language_info": {
   "codemirror_mode": {
    "name": "ipython",
    "version": 3
   },
   "file_extension": ".py",
   "mimetype": "text/x-python",
   "name": "python",
   "nbconvert_exporter": "python",
   "pygments_lexer": "ipython3",
   "version": "3.11.2"
  }
 },
 "nbformat": 4,
 "nbformat_minor": 5
}
